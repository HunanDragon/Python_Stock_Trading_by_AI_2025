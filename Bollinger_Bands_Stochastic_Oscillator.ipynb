{
 "cells": [
  {
   "cell_type": "markdown",
   "id": "b475fe31",
   "metadata": {},
   "source": [
    "For ranging markets: Bollinger Bands + Stochastic Oscillator\n",
    "This combination is ideal for identifying potential reversals and entry points in markets that are not trending strongly. \n",
    "Bollinger Bands: Measure volatility and identify potential overbought or oversold price extremes within a range.\n",
    "Usage: The price touching the outer bands can signal that the market is overextended.\n",
    "Stochastic Oscillator: A momentum indicator that signals overbought and oversold conditions.\n",
    "Usage: When the price is at the lower Bollinger Band and the Stochastic is in the oversold region (below 20), it could signal a buying opportunity. "
   ]
  },
  {
   "cell_type": "code",
   "execution_count": 1,
   "id": "e84e5595",
   "metadata": {},
   "outputs": [],
   "source": [
    "import pandas as pd\n",
    "import requests\n",
    "import numpy as np\n",
    "from lightweight_charts import Chart\n",
    "from stock_indicators import indicators, Quote\n",
    "from datetime import datetime, timedelta\n",
    "import asyncio\n",
    "import nest_asyncio\n",
    "\n",
    "nest_asyncio.apply()"
   ]
  },
  {
   "cell_type": "code",
   "execution_count": 2,
   "id": "29786c8d",
   "metadata": {},
   "outputs": [
    {
     "data": {
      "application/vnd.microsoft.datawrangler.viewer.v0+json": {
       "columns": [
        {
         "name": "index",
         "rawType": "int64",
         "type": "integer"
        },
        {
         "name": "Date",
         "rawType": "datetime64[ns]",
         "type": "datetime"
        },
        {
         "name": "Close",
         "rawType": "float64",
         "type": "float"
        },
        {
         "name": "High",
         "rawType": "float64",
         "type": "float"
        },
        {
         "name": "Low",
         "rawType": "float64",
         "type": "float"
        },
        {
         "name": "Open",
         "rawType": "float64",
         "type": "float"
        },
        {
         "name": "Volume",
         "rawType": "int64",
         "type": "integer"
        }
       ],
       "ref": "3da1f445-85ca-4a9c-bdc6-707df68e99a9",
       "rows": [
        [
         "0",
         "2010-01-04 00:00:00",
         "85.27920532226562",
         "85.3243526269112",
         "83.90968158491715",
         "84.55681974288503",
         "118944600"
        ],
        [
         "1",
         "2010-01-05 00:00:00",
         "85.50493621826172",
         "85.5425627944706",
         "84.91799837186399",
         "85.22652022195021",
         "111579900"
        ],
        [
         "2",
         "2010-01-06 00:00:00",
         "85.56514739990234",
         "85.77584247522753",
         "85.35445232457717",
         "85.42217328121302",
         "116074400"
        ],
        [
         "3",
         "2010-01-07 00:00:00",
         "85.92634582519531",
         "86.03169336625015",
         "85.16633364386222",
         "85.40712884356047",
         "131091100"
        ],
        [
         "4",
         "2010-01-08 00:00:00",
         "86.2122573852539",
         "86.24988395398636",
         "85.52749861418867",
         "85.70056705193785",
         "126402800"
        ]
       ],
       "shape": {
        "columns": 6,
        "rows": 5
       }
      },
      "text/html": [
       "<div>\n",
       "<style scoped>\n",
       "    .dataframe tbody tr th:only-of-type {\n",
       "        vertical-align: middle;\n",
       "    }\n",
       "\n",
       "    .dataframe tbody tr th {\n",
       "        vertical-align: top;\n",
       "    }\n",
       "\n",
       "    .dataframe thead th {\n",
       "        text-align: right;\n",
       "    }\n",
       "</style>\n",
       "<table border=\"1\" class=\"dataframe\">\n",
       "  <thead>\n",
       "    <tr style=\"text-align: right;\">\n",
       "      <th></th>\n",
       "      <th>Date</th>\n",
       "      <th>Close</th>\n",
       "      <th>High</th>\n",
       "      <th>Low</th>\n",
       "      <th>Open</th>\n",
       "      <th>Volume</th>\n",
       "    </tr>\n",
       "  </thead>\n",
       "  <tbody>\n",
       "    <tr>\n",
       "      <th>0</th>\n",
       "      <td>2010-01-04</td>\n",
       "      <td>85.279205</td>\n",
       "      <td>85.324353</td>\n",
       "      <td>83.909682</td>\n",
       "      <td>84.556820</td>\n",
       "      <td>118944600</td>\n",
       "    </tr>\n",
       "    <tr>\n",
       "      <th>1</th>\n",
       "      <td>2010-01-05</td>\n",
       "      <td>85.504936</td>\n",
       "      <td>85.542563</td>\n",
       "      <td>84.917998</td>\n",
       "      <td>85.226520</td>\n",
       "      <td>111579900</td>\n",
       "    </tr>\n",
       "    <tr>\n",
       "      <th>2</th>\n",
       "      <td>2010-01-06</td>\n",
       "      <td>85.565147</td>\n",
       "      <td>85.775842</td>\n",
       "      <td>85.354452</td>\n",
       "      <td>85.422173</td>\n",
       "      <td>116074400</td>\n",
       "    </tr>\n",
       "    <tr>\n",
       "      <th>3</th>\n",
       "      <td>2010-01-07</td>\n",
       "      <td>85.926346</td>\n",
       "      <td>86.031693</td>\n",
       "      <td>85.166334</td>\n",
       "      <td>85.407129</td>\n",
       "      <td>131091100</td>\n",
       "    </tr>\n",
       "    <tr>\n",
       "      <th>4</th>\n",
       "      <td>2010-01-08</td>\n",
       "      <td>86.212257</td>\n",
       "      <td>86.249884</td>\n",
       "      <td>85.527499</td>\n",
       "      <td>85.700567</td>\n",
       "      <td>126402800</td>\n",
       "    </tr>\n",
       "  </tbody>\n",
       "</table>\n",
       "</div>"
      ],
      "text/plain": [
       "        Date      Close       High        Low       Open     Volume\n",
       "0 2010-01-04  85.279205  85.324353  83.909682  84.556820  118944600\n",
       "1 2010-01-05  85.504936  85.542563  84.917998  85.226520  111579900\n",
       "2 2010-01-06  85.565147  85.775842  85.354452  85.422173  116074400\n",
       "3 2010-01-07  85.926346  86.031693  85.166334  85.407129  131091100\n",
       "4 2010-01-08  86.212257  86.249884  85.527499  85.700567  126402800"
      ]
     },
     "execution_count": 2,
     "metadata": {},
     "output_type": "execute_result"
    }
   ],
   "source": [
    "# import yfinance as yf\n",
    "# df = yf.download('SPY', start='2010-01-01', multi_level_index=False)\n",
    "# df.reset_index(inplace=True)\n",
    "# df.to_csv('SPY.csv', index=False)\n",
    "df = pd.read_csv('SPY.csv')\n",
    "rawdf = df.copy()\n",
    "df['Date'] = pd.to_datetime(df['Date'])\n",
    "df.head()"
   ]
  },
  {
   "cell_type": "code",
   "execution_count": 3,
   "id": "4559b7be",
   "metadata": {},
   "outputs": [],
   "source": [
    "quotes = [\n",
    "    Quote(d, o, h, l, c, v)\n",
    "    for d, o, h, l, c, v in zip(\n",
    "        df['Date'],\n",
    "        df['Open'],\n",
    "        df['High'],\n",
    "        df['Low'],\n",
    "        df['Close'],\n",
    "        df['Volume']\n",
    "    )\n",
    "]\n"
   ]
  },
  {
   "cell_type": "code",
   "execution_count": 4,
   "id": "5af85ff7",
   "metadata": {},
   "outputs": [],
   "source": [
    "# Calculate Bollinger Bands\n",
    "df['BB_upper_band'] = [r.upper_band for r in indicators.get_bollinger_bands(quotes, 20, 2)]\n",
    "df['BB_middle_band'] = [r.sma for r in indicators.get_bollinger_bands(quotes, 20, 2)]\n",
    "df['BB_lower_band'] = [r.lower_band for r in indicators.get_bollinger_bands(quotes, 20, 2)]\n",
    "\n"
   ]
  },
  {
   "cell_type": "code",
   "execution_count": 5,
   "id": "a50e8448",
   "metadata": {},
   "outputs": [
    {
     "name": "stderr",
     "output_type": "stream",
     "text": [
      "C:\\Users\\jwang\\AppData\\Local\\Temp\\ipykernel_23304\\886396804.py:13: FutureWarning: Series.fillna with 'method' is deprecated and will raise in a future version. Use obj.ffill() or obj.bfill() instead.\n",
      "  df['Position'] = df['Position'].fillna(method='ffill')\n"
     ]
    }
   ],
   "source": [
    "# Calculate Stochastic Oscillator\n",
    "stoch_results = indicators.get_stoch(quotes, 14, 3, 3)  # 14 period, 3 period %K smoothing, 3 period %D smoothing\n",
    "df['Stoch_K'] = [r.k for r in stoch_results]\n",
    "df['Stoch_D'] = [r.d for r in stoch_results]\n",
    "df['Buy_Signal'] = ( (df['Close'] <= df['BB_lower_band']) & (df['Stoch_K'] < 20) & (df['Stoch_K'] > df['Stoch_K'].shift(1)) )\n",
    "df['Sell_Signal'] = ( (df['Close'] >= df['BB_upper_band']) & (df['Stoch_K'] > 80) & (df['Stoch_K'] < df['Stoch_K'].shift(1)) )\n",
    "\n",
    "\n",
    "# Calculate strategy returns\n",
    "df['Position'] = 0\n",
    "df.loc[df['Buy_Signal'], 'Position'] = 1\n",
    "df.loc[df['Sell_Signal'], 'Position'] = -1\n",
    "df['Position'] = df['Position'].fillna(method='ffill')\n",
    "df['Returns'] = df['Close'].pct_change() * df['Position'].shift(1)\n",
    "df['Strategy_Returns'] = (1 + df['Returns']).cumprod()"
   ]
  },
  {
   "cell_type": "code",
   "execution_count": 6,
   "id": "58a06fd1",
   "metadata": {},
   "outputs": [
    {
     "data": {
      "application/vnd.microsoft.datawrangler.viewer.v0+json": {
       "columns": [
        {
         "name": "index",
         "rawType": "int64",
         "type": "integer"
        },
        {
         "name": "Date",
         "rawType": "datetime64[ns]",
         "type": "datetime"
        },
        {
         "name": "Close",
         "rawType": "float64",
         "type": "float"
        },
        {
         "name": "High",
         "rawType": "float64",
         "type": "float"
        },
        {
         "name": "Low",
         "rawType": "float64",
         "type": "float"
        },
        {
         "name": "Open",
         "rawType": "float64",
         "type": "float"
        },
        {
         "name": "Volume",
         "rawType": "int64",
         "type": "integer"
        },
        {
         "name": "BB_upper_band",
         "rawType": "float64",
         "type": "float"
        },
        {
         "name": "BB_middle_band",
         "rawType": "float64",
         "type": "float"
        },
        {
         "name": "BB_lower_band",
         "rawType": "float64",
         "type": "float"
        },
        {
         "name": "Stoch_K",
         "rawType": "float64",
         "type": "float"
        },
        {
         "name": "Stoch_D",
         "rawType": "float64",
         "type": "float"
        },
        {
         "name": "Buy_Signal",
         "rawType": "bool",
         "type": "boolean"
        },
        {
         "name": "Sell_Signal",
         "rawType": "bool",
         "type": "boolean"
        },
        {
         "name": "Position",
         "rawType": "int64",
         "type": "integer"
        },
        {
         "name": "Returns",
         "rawType": "float64",
         "type": "float"
        },
        {
         "name": "Strategy_Returns",
         "rawType": "float64",
         "type": "float"
        }
       ],
       "ref": "f3f8aa4e-e4ab-4810-9153-38e309897334",
       "rows": [
        [
         "3971",
         "2025-10-16 00:00:00",
         "660.6400146484375",
         "668.7100219726562",
         "657.1099853515625",
         "666.8200073242188",
         "110563300",
         "674.7327939906286",
         "665.0279968261718",
         "655.3231996617151",
         "46.61285006331932",
         "42.74420343909683",
         "False",
         "False",
         "0",
         "-0.0",
         "1.1666142546543599"
        ],
        [
         "3972",
         "2025-10-17 00:00:00",
         "664.3900146484375",
         "665.760009765625",
         "658.1400146484375",
         "659.5",
         "96500900",
         "674.7530605330727",
         "665.0624969482421",
         "655.3719333634116",
         "50.023612227471524",
         "49.01297676621068",
         "False",
         "False",
         "0",
         "0.0",
         "1.1666142546543599"
        ],
        [
         "3973",
         "2025-10-20 00:00:00",
         "671.2999877929688",
         "672.2100219726562",
         "667.27001953125",
         "667.3200073242188",
         "60493400",
         "675.3282757837931",
         "665.2854949951172",
         "655.2427142064414",
         "59.70308346777847",
         "52.11318191952311",
         "False",
         "False",
         "0",
         "0.0",
         "1.1666142546543599"
        ],
        [
         "3974",
         "2025-10-21 00:00:00",
         "671.2899780273438",
         "672.989990234375",
         "669.97998046875",
         "671.4400024414062",
         "56249000",
         "676.011984489028",
         "665.6894927978516",
         "655.3670011066752",
         "76.51971187299898",
         "62.08213585608299",
         "False",
         "False",
         "0",
         "-0.0",
         "1.1666142546543599"
        ],
        [
         "3975",
         "2025-10-22 00:00:00",
         "667.7999877929688",
         "671.989990234375",
         "663.2999877929688",
         "672.0",
         "75552387",
         "676.1626903512425",
         "666.0244934082032",
         "655.8862964651638",
         "81.90416712445476",
         "72.70898748841074",
         "False",
         "False",
         "0",
         "-0.0",
         "1.1666142546543599"
        ]
       ],
       "shape": {
        "columns": 16,
        "rows": 5
       }
      },
      "text/html": [
       "<div>\n",
       "<style scoped>\n",
       "    .dataframe tbody tr th:only-of-type {\n",
       "        vertical-align: middle;\n",
       "    }\n",
       "\n",
       "    .dataframe tbody tr th {\n",
       "        vertical-align: top;\n",
       "    }\n",
       "\n",
       "    .dataframe thead th {\n",
       "        text-align: right;\n",
       "    }\n",
       "</style>\n",
       "<table border=\"1\" class=\"dataframe\">\n",
       "  <thead>\n",
       "    <tr style=\"text-align: right;\">\n",
       "      <th></th>\n",
       "      <th>Date</th>\n",
       "      <th>Close</th>\n",
       "      <th>High</th>\n",
       "      <th>Low</th>\n",
       "      <th>Open</th>\n",
       "      <th>Volume</th>\n",
       "      <th>BB_upper_band</th>\n",
       "      <th>BB_middle_band</th>\n",
       "      <th>BB_lower_band</th>\n",
       "      <th>Stoch_K</th>\n",
       "      <th>Stoch_D</th>\n",
       "      <th>Buy_Signal</th>\n",
       "      <th>Sell_Signal</th>\n",
       "      <th>Position</th>\n",
       "      <th>Returns</th>\n",
       "      <th>Strategy_Returns</th>\n",
       "    </tr>\n",
       "  </thead>\n",
       "  <tbody>\n",
       "    <tr>\n",
       "      <th>3971</th>\n",
       "      <td>2025-10-16</td>\n",
       "      <td>660.640015</td>\n",
       "      <td>668.710022</td>\n",
       "      <td>657.109985</td>\n",
       "      <td>666.820007</td>\n",
       "      <td>110563300</td>\n",
       "      <td>674.732794</td>\n",
       "      <td>665.027997</td>\n",
       "      <td>655.323200</td>\n",
       "      <td>46.612850</td>\n",
       "      <td>42.744203</td>\n",
       "      <td>False</td>\n",
       "      <td>False</td>\n",
       "      <td>0</td>\n",
       "      <td>-0.0</td>\n",
       "      <td>1.166614</td>\n",
       "    </tr>\n",
       "    <tr>\n",
       "      <th>3972</th>\n",
       "      <td>2025-10-17</td>\n",
       "      <td>664.390015</td>\n",
       "      <td>665.760010</td>\n",
       "      <td>658.140015</td>\n",
       "      <td>659.500000</td>\n",
       "      <td>96500900</td>\n",
       "      <td>674.753061</td>\n",
       "      <td>665.062497</td>\n",
       "      <td>655.371933</td>\n",
       "      <td>50.023612</td>\n",
       "      <td>49.012977</td>\n",
       "      <td>False</td>\n",
       "      <td>False</td>\n",
       "      <td>0</td>\n",
       "      <td>0.0</td>\n",
       "      <td>1.166614</td>\n",
       "    </tr>\n",
       "    <tr>\n",
       "      <th>3973</th>\n",
       "      <td>2025-10-20</td>\n",
       "      <td>671.299988</td>\n",
       "      <td>672.210022</td>\n",
       "      <td>667.270020</td>\n",
       "      <td>667.320007</td>\n",
       "      <td>60493400</td>\n",
       "      <td>675.328276</td>\n",
       "      <td>665.285495</td>\n",
       "      <td>655.242714</td>\n",
       "      <td>59.703083</td>\n",
       "      <td>52.113182</td>\n",
       "      <td>False</td>\n",
       "      <td>False</td>\n",
       "      <td>0</td>\n",
       "      <td>0.0</td>\n",
       "      <td>1.166614</td>\n",
       "    </tr>\n",
       "    <tr>\n",
       "      <th>3974</th>\n",
       "      <td>2025-10-21</td>\n",
       "      <td>671.289978</td>\n",
       "      <td>672.989990</td>\n",
       "      <td>669.979980</td>\n",
       "      <td>671.440002</td>\n",
       "      <td>56249000</td>\n",
       "      <td>676.011984</td>\n",
       "      <td>665.689493</td>\n",
       "      <td>655.367001</td>\n",
       "      <td>76.519712</td>\n",
       "      <td>62.082136</td>\n",
       "      <td>False</td>\n",
       "      <td>False</td>\n",
       "      <td>0</td>\n",
       "      <td>-0.0</td>\n",
       "      <td>1.166614</td>\n",
       "    </tr>\n",
       "    <tr>\n",
       "      <th>3975</th>\n",
       "      <td>2025-10-22</td>\n",
       "      <td>667.799988</td>\n",
       "      <td>671.989990</td>\n",
       "      <td>663.299988</td>\n",
       "      <td>672.000000</td>\n",
       "      <td>75552387</td>\n",
       "      <td>676.162690</td>\n",
       "      <td>666.024493</td>\n",
       "      <td>655.886296</td>\n",
       "      <td>81.904167</td>\n",
       "      <td>72.708987</td>\n",
       "      <td>False</td>\n",
       "      <td>False</td>\n",
       "      <td>0</td>\n",
       "      <td>-0.0</td>\n",
       "      <td>1.166614</td>\n",
       "    </tr>\n",
       "  </tbody>\n",
       "</table>\n",
       "</div>"
      ],
      "text/plain": [
       "           Date       Close        High         Low        Open     Volume  \\\n",
       "3971 2025-10-16  660.640015  668.710022  657.109985  666.820007  110563300   \n",
       "3972 2025-10-17  664.390015  665.760010  658.140015  659.500000   96500900   \n",
       "3973 2025-10-20  671.299988  672.210022  667.270020  667.320007   60493400   \n",
       "3974 2025-10-21  671.289978  672.989990  669.979980  671.440002   56249000   \n",
       "3975 2025-10-22  667.799988  671.989990  663.299988  672.000000   75552387   \n",
       "\n",
       "      BB_upper_band  BB_middle_band  BB_lower_band    Stoch_K    Stoch_D  \\\n",
       "3971     674.732794      665.027997     655.323200  46.612850  42.744203   \n",
       "3972     674.753061      665.062497     655.371933  50.023612  49.012977   \n",
       "3973     675.328276      665.285495     655.242714  59.703083  52.113182   \n",
       "3974     676.011984      665.689493     655.367001  76.519712  62.082136   \n",
       "3975     676.162690      666.024493     655.886296  81.904167  72.708987   \n",
       "\n",
       "      Buy_Signal  Sell_Signal  Position  Returns  Strategy_Returns  \n",
       "3971       False        False         0     -0.0          1.166614  \n",
       "3972       False        False         0      0.0          1.166614  \n",
       "3973       False        False         0      0.0          1.166614  \n",
       "3974       False        False         0     -0.0          1.166614  \n",
       "3975       False        False         0     -0.0          1.166614  "
      ]
     },
     "execution_count": 6,
     "metadata": {},
     "output_type": "execute_result"
    }
   ],
   "source": [
    "df.tail()   "
   ]
  },
  {
   "cell_type": "code",
   "execution_count": 7,
   "id": "3c63ea19",
   "metadata": {},
   "outputs": [],
   "source": [
    "# Bollinger Bands\n",
    "if __name__ == '__main__':\n",
    "\n",
    "    chart = Chart(title=\"Bollinger Bands\", maximize=True)\n",
    "    chart.legend(visible=True, color_based_on_candle=True)\n",
    "\n",
    "    # Set the main candlestick data for the chart.\n",
    "    # The 'lightweight-charts' library expects a DataFrame with columns like 'Date', 'Open', 'High', 'Low', 'Close'.\n",
    "    chart.set(df)\n",
    "\n",
    "    # Create line series for EMAs\n",
    "    upper_band_line = chart.create_line('BB_upper_band', color=\"#ff0000\", width=1, price_line=False, price_label=False)\n",
    "    upper_band_line.set(df[['Date', 'BB_upper_band']])\n",
    "    middle_band_line = chart.create_line('BB_middle_band', color=\"#f3bd0b\", width=1, price_line=False, price_label=False)\n",
    "    middle_band_line.set(df[['Date', 'BB_middle_band']])\n",
    "    lower_band_line = chart.create_line('BB_lower_band', color=\"#00ff00\", width=1, price_line=False, price_label=False)\n",
    "    lower_band_line.set(df[['Date', 'BB_lower_band']])\n",
    "\n",
    "chart.show(block = True)"
   ]
  },
  {
   "cell_type": "code",
   "execution_count": 8,
   "id": "f5eb2839",
   "metadata": {},
   "outputs": [],
   "source": [
    "# Create and display the chart with both indicators\n",
    "if __name__ == '__main__':\n",
    "    # Main price chart with Bollinger Bands\n",
    "    chart = Chart(title=\"Bollinger Bands + Stochastic Strategy\", maximize=True, inner_height=0.8)\n",
    "    chart.legend(visible=True, color_based_on_candle=True)\n",
    "    \n",
    "    # Set the main candlestick data\n",
    "    chart.set(df)\n",
    "    \n",
    "    # Add Bollinger Bands\n",
    "    upper_band_line = chart.create_line('BB_upper_band', color=\"#ff0000\", width=1, price_line=False, price_label=False)\n",
    "    upper_band_line.set(df[['Date', 'BB_upper_band']])\n",
    "    middle_band_line = chart.create_line('BB_middle_band', color=\"#f3bd0b\", width=1, price_line=False, price_label=False)\n",
    "    middle_band_line.set(df[['Date', 'BB_middle_band']])\n",
    "    lower_band_line = chart.create_line('BB_lower_band', color=\"#00ff00\", width=1, price_line=False, price_label=False)\n",
    "    lower_band_line.set(df[['Date', 'BB_lower_band']])\n",
    "       \n",
    "          \n",
    "    # Add Stochastic Oscillator as subchart\n",
    "    stoch_chart = chart.create_subchart(width=1.0, height=0.2, sync=True)\n",
    "    stoch_k = stoch_chart.create_line('Stoch_K', color='#2962FF')\n",
    "    stoch_k.set(df[['Date', 'Stoch_K']])\n",
    "    stoch_d = stoch_chart.create_line('Stoch_D', color='#FF6D00')\n",
    "    stoch_d.set(df[['Date', 'Stoch_D']])\n",
    "    \n",
    "    # Initialize a list to hold the markers\n",
    "    markers = []\n",
    "\n",
    "    # Iterate through the DataFrame to find crossover points\n",
    "    for i in range(1, len(df)):\n",
    "\n",
    "        buy_signal = df.iloc[i]['Buy_Signal']\n",
    "        sell_signal = df.iloc[i]['Sell_Signal']\n",
    "        \n",
    "        current_time = df.iloc[i]['Date']\n",
    "\n",
    "        # Check for buy signal (EMA 12 crosses above EMA 25)\n",
    "        if buy_signal == 1:\n",
    "            markers.append({\n",
    "                'time': current_time,\n",
    "                'position': 'below',\n",
    "                'shape': 'arrow_up',\n",
    "                'color': '#33de3d',\n",
    "                'text': 'Buy'\n",
    "            })\n",
    "        \n",
    "        # Check for sell signal (EMA 12 crosses below EMA 25)\n",
    "        elif sell_signal == -1:\n",
    "            markers.append({\n",
    "                'time': current_time,\n",
    "                'position': 'above',\n",
    "                'shape': 'arrow_down',\n",
    "                'color': '#f485fb',\n",
    "                'text': 'Sell'\n",
    "            })\n",
    "\n",
    "    # Add all markers at once. It's more efficient than adding them individually in a loop.\n",
    "    if markers:\n",
    "        chart.marker_list(markers)\n",
    "    \n",
    "    \n",
    "    chart.show(block=True)"
   ]
  },
  {
   "cell_type": "code",
   "execution_count": 9,
   "id": "fe965da8",
   "metadata": {},
   "outputs": [
    {
     "name": "stdout",
     "output_type": "stream",
     "text": [
      "Strategy Performance Analysis:\n",
      "------------------------------\n",
      "Total Number of Trades: 104\n",
      "Winning Trades: 35\n",
      "Losing Trades: 24\n",
      "Win Rate: 59.32%\n",
      "Strategy Total Return: 16.66%\n",
      "Buy & Hold Return: 683.07%\n"
     ]
    }
   ],
   "source": [
    "# Analyze strategy performance\n",
    "print(\"Strategy Performance Analysis:\")\n",
    "print(\"-\" * 30)\n",
    "\n",
    "# Calculate key metrics\n",
    "total_trades = len(df[df['Position'] != df['Position'].shift(1)]) - 1\n",
    "winning_trades = len(df[df['Returns'] > 0])\n",
    "losing_trades = len(df[df['Returns'] < 0])\n",
    "win_rate = winning_trades / (winning_trades + losing_trades) * 100\n",
    "\n",
    "# Calculate returns\n",
    "total_return = (df['Strategy_Returns'].iloc[-1] - 1) * 100\n",
    "buy_hold_return = ((df['Close'].iloc[-1] / df['Close'].iloc[0]) - 1) * 100\n",
    "\n",
    "print(f\"Total Number of Trades: {total_trades}\")\n",
    "print(f\"Winning Trades: {winning_trades}\")\n",
    "print(f\"Losing Trades: {losing_trades}\")\n",
    "print(f\"Win Rate: {win_rate:.2f}%\")\n",
    "print(f\"Strategy Total Return: {total_return:.2f}%\")\n",
    "print(f\"Buy & Hold Return: {buy_hold_return:.2f}%\")"
   ]
  }
 ],
 "metadata": {
  "kernelspec": {
   "display_name": "Python 3",
   "language": "python",
   "name": "python3"
  },
  "language_info": {
   "codemirror_mode": {
    "name": "ipython",
    "version": 3
   },
   "file_extension": ".py",
   "mimetype": "text/x-python",
   "name": "python",
   "nbconvert_exporter": "python",
   "pygments_lexer": "ipython3",
   "version": "3.13.2"
  }
 },
 "nbformat": 4,
 "nbformat_minor": 5
}
