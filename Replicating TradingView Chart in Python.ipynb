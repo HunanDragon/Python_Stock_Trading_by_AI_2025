{
 "cells": [
  {
   "cell_type": "markdown",
   "id": "6d77628a",
   "metadata": {},
   "source": [
    "Nikhil Adithyan\n",
    "Aug 1, 2023 /7 min read\n",
    "\n",
    "I’ve always been a huge fan of TradingView’s charting tool, especially for its beautifully crafted user interface and design. And there’s never been a day I haven’t thought about recreating the graph design in Python.\n",
    "But, it’s always tough for Python developers to create stunning and professional-looking visualizations (like TradingView) using libraries like Matplotlib, Seaborn, Altair, etc. Their style themes are so outdated and crappy. Though all these modules provide features for customizing the theme of the charts, it takes a toll on the developer as there is a lot of work involved.\n",
    "\n",
    "\n",
    "Fortunately, I recently came across an awesome library called lightweight-charts-python providing features to easily re-create the TradingView style with minimal code. In this article, we will dive deep into this library, explore its features, and code some cool TradingView charts in Python."
   ]
  },
  {
   "cell_type": "markdown",
   "id": "18ce707d",
   "metadata": {},
   "source": [
    "Importing Packages\n",
    "The first and foremost step of setting up the coding environment is to import the required packages. In this article, we are going to use five different packages which are pandas for data manipulation, and requests for making API calls, numpy for numerical calculations, lightweight_chart for replicating the TradingView look, time for time-related functions, and finally asyncio and nest_asyncio for asynchronous programming. The following code will import all the mentioned packages into our Python environment:"
   ]
  },
  {
   "cell_type": "code",
   "execution_count": 1,
   "id": "8f540420",
   "metadata": {},
   "outputs": [],
   "source": [
    "import pandas as pd\n",
    "import requests\n",
    "import numpy as np\n",
    "from lightweight_charts import Chart\n",
    "from stock_indicators import indicators, Quote\n",
    "import time\n",
    "import asyncio\n",
    "import nest_asyncio\n",
    "nest_asyncio.apply()"
   ]
  },
  {
   "cell_type": "markdown",
   "id": "c9bc8da5",
   "metadata": {},
   "source": [
    "Obtaining Data using Yfinance"
   ]
  },
  {
   "cell_type": "code",
   "execution_count": 2,
   "id": "a57b18b4",
   "metadata": {},
   "outputs": [
    {
     "name": "stderr",
     "output_type": "stream",
     "text": [
      "C:\\Users\\jwang\\AppData\\Local\\Temp\\ipykernel_22036\\3415087877.py:2: FutureWarning: YF.download() has changed argument auto_adjust default to True\n",
      "  df = yf.download('TQQQ', start='2020-01-01', multi_level_index=False)\n",
      "[*********************100%***********************]  1 of 1 completed\n"
     ]
    },
    {
     "data": {
      "application/vnd.microsoft.datawrangler.viewer.v0+json": {
       "columns": [
        {
         "name": "index",
         "rawType": "int64",
         "type": "integer"
        },
        {
         "name": "Date",
         "rawType": "datetime64[ns]",
         "type": "datetime"
        },
        {
         "name": "Close",
         "rawType": "float64",
         "type": "float"
        },
        {
         "name": "High",
         "rawType": "float64",
         "type": "float"
        },
        {
         "name": "Low",
         "rawType": "float64",
         "type": "float"
        },
        {
         "name": "Open",
         "rawType": "float64",
         "type": "float"
        },
        {
         "name": "Volume",
         "rawType": "int64",
         "type": "integer"
        }
       ],
       "ref": "059efeeb-4c7f-478b-91a5-b0118956e3c2",
       "rows": [
        [
         "0",
         "2020-01-02 00:00:00",
         "21.7608642578125",
         "21.7608642578125",
         "21.13324029920752",
         "21.250620059554993",
         "65536000"
        ],
        [
         "1",
         "2020-01-03 00:00:00",
         "21.169174194335938",
         "21.55964261938336",
         "20.898479733984875",
         "20.910458044271287",
         "72590000"
        ],
        [
         "2",
         "2020-01-06 00:00:00",
         "21.571619033813477",
         "21.578805288300327",
         "20.589456160920353",
         "20.666112588169078",
         "64047600"
        ],
        [
         "3",
         "2020-01-07 00:00:00",
         "21.545265197753906",
         "21.746487605734004",
         "21.35841529673435",
         "21.59317477271113",
         "53849600"
        ],
        [
         "4",
         "2020-01-08 00:00:00",
         "22.0411376953125",
         "22.345367346790674",
         "21.44704907227261",
         "21.550056307522677",
         "79582400"
        ]
       ],
       "shape": {
        "columns": 6,
        "rows": 5
       }
      },
      "text/html": [
       "<div>\n",
       "<style scoped>\n",
       "    .dataframe tbody tr th:only-of-type {\n",
       "        vertical-align: middle;\n",
       "    }\n",
       "\n",
       "    .dataframe tbody tr th {\n",
       "        vertical-align: top;\n",
       "    }\n",
       "\n",
       "    .dataframe thead th {\n",
       "        text-align: right;\n",
       "    }\n",
       "</style>\n",
       "<table border=\"1\" class=\"dataframe\">\n",
       "  <thead>\n",
       "    <tr style=\"text-align: right;\">\n",
       "      <th></th>\n",
       "      <th>Date</th>\n",
       "      <th>Close</th>\n",
       "      <th>High</th>\n",
       "      <th>Low</th>\n",
       "      <th>Open</th>\n",
       "      <th>Volume</th>\n",
       "    </tr>\n",
       "  </thead>\n",
       "  <tbody>\n",
       "    <tr>\n",
       "      <th>0</th>\n",
       "      <td>2020-01-02</td>\n",
       "      <td>21.760864</td>\n",
       "      <td>21.760864</td>\n",
       "      <td>21.133240</td>\n",
       "      <td>21.250620</td>\n",
       "      <td>65536000</td>\n",
       "    </tr>\n",
       "    <tr>\n",
       "      <th>1</th>\n",
       "      <td>2020-01-03</td>\n",
       "      <td>21.169174</td>\n",
       "      <td>21.559643</td>\n",
       "      <td>20.898480</td>\n",
       "      <td>20.910458</td>\n",
       "      <td>72590000</td>\n",
       "    </tr>\n",
       "    <tr>\n",
       "      <th>2</th>\n",
       "      <td>2020-01-06</td>\n",
       "      <td>21.571619</td>\n",
       "      <td>21.578805</td>\n",
       "      <td>20.589456</td>\n",
       "      <td>20.666113</td>\n",
       "      <td>64047600</td>\n",
       "    </tr>\n",
       "    <tr>\n",
       "      <th>3</th>\n",
       "      <td>2020-01-07</td>\n",
       "      <td>21.545265</td>\n",
       "      <td>21.746488</td>\n",
       "      <td>21.358415</td>\n",
       "      <td>21.593175</td>\n",
       "      <td>53849600</td>\n",
       "    </tr>\n",
       "    <tr>\n",
       "      <th>4</th>\n",
       "      <td>2020-01-08</td>\n",
       "      <td>22.041138</td>\n",
       "      <td>22.345367</td>\n",
       "      <td>21.447049</td>\n",
       "      <td>21.550056</td>\n",
       "      <td>79582400</td>\n",
       "    </tr>\n",
       "  </tbody>\n",
       "</table>\n",
       "</div>"
      ],
      "text/plain": [
       "        Date      Close       High        Low       Open    Volume\n",
       "0 2020-01-02  21.760864  21.760864  21.133240  21.250620  65536000\n",
       "1 2020-01-03  21.169174  21.559643  20.898480  20.910458  72590000\n",
       "2 2020-01-06  21.571619  21.578805  20.589456  20.666113  64047600\n",
       "3 2020-01-07  21.545265  21.746488  21.358415  21.593175  53849600\n",
       "4 2020-01-08  22.041138  22.345367  21.447049  21.550056  79582400"
      ]
     },
     "execution_count": 2,
     "metadata": {},
     "output_type": "execute_result"
    }
   ],
   "source": [
    "import yfinance as yf\n",
    "df = yf.download('TQQQ', start='2020-01-01', multi_level_index=False)\n",
    "df.reset_index(inplace=True)\n",
    "\n",
    "df.head()"
   ]
  },
  {
   "cell_type": "code",
   "execution_count": 3,
   "id": "3d19b71f",
   "metadata": {},
   "outputs": [],
   "source": [
    "quotes = [\n",
    "    Quote(d, o, h, l, c, v)\n",
    "    for d, o, h, l, c, v in zip(\n",
    "        df['Date'],\n",
    "        df['Open'],\n",
    "        df['High'],\n",
    "        df['Low'],\n",
    "        df['Close'],\n",
    "        df['Volume']\n",
    "    )\n",
    "]"
   ]
  },
  {
   "cell_type": "code",
   "execution_count": 4,
   "id": "a31c7cf7",
   "metadata": {},
   "outputs": [
    {
     "data": {
      "application/vnd.microsoft.datawrangler.viewer.v0+json": {
       "columns": [
        {
         "name": "index",
         "rawType": "int64",
         "type": "integer"
        },
        {
         "name": "Date",
         "rawType": "datetime64[ns]",
         "type": "datetime"
        },
        {
         "name": "Close",
         "rawType": "float64",
         "type": "float"
        },
        {
         "name": "High",
         "rawType": "float64",
         "type": "float"
        },
        {
         "name": "Low",
         "rawType": "float64",
         "type": "float"
        },
        {
         "name": "Open",
         "rawType": "float64",
         "type": "float"
        },
        {
         "name": "Volume",
         "rawType": "int64",
         "type": "integer"
        },
        {
         "name": "EMA 25",
         "rawType": "float64",
         "type": "float"
        },
        {
         "name": "EMA 12",
         "rawType": "float64",
         "type": "float"
        },
        {
         "name": "upper_band",
         "rawType": "float64",
         "type": "float"
        },
        {
         "name": "middle_band",
         "rawType": "float64",
         "type": "float"
        },
        {
         "name": "lower_band",
         "rawType": "float64",
         "type": "float"
        },
        {
         "name": "rsi",
         "rawType": "float64",
         "type": "float"
        }
       ],
       "ref": "a7ce78e4-57be-470f-a6c0-a9c50e47c91a",
       "rows": [
        [
         "0",
         "2020-02-06 00:00:00",
         "25.972179412841797",
         "26.000926257675772",
         "25.251130541014724",
         "25.51463688860945",
         "56566400",
         "23.212257919311522",
         "24.073253227040055",
         "25.54890393225572",
         "23.610919380187987",
         "21.672934828120255",
         "69.31586388898398"
        ],
        [
         "1",
         "2020-02-07 00:00:00",
         "25.636804580688477",
         "26.065602049480034",
         "25.421209660377134",
         "25.62722412756488",
         "77026000",
         "23.39876150864821",
         "24.313799589139812",
         "25.8313846447144",
         "23.762914752960206",
         "21.694444861206012",
         "66.38657311327334"
        ],
        [
         "2",
         "2020-02-10 00:00:00",
         "26.56147575378418",
         "26.568663835644365",
         "25.368510033658314",
         "25.3876745966855",
         "61624400",
         "23.642047219812515",
         "24.659595922162023",
         "26.274288475350435",
         "23.970366382598876",
         "21.666444289847316",
         "70.13411707135421"
        ],
        [
         "3",
         "2020-02-11 00:00:00",
         "26.580638885498047",
         "27.277734750099853",
         "26.369834186450365",
         "26.997458056911217",
         "96885200",
         "23.868092732557557",
         "24.955140993444488",
         "26.67657439302361",
         "24.13960943222046",
         "21.60264447141731",
         "70.20824704609319"
        ],
        [
         "4",
         "2020-02-12 00:00:00",
         "27.359182357788086",
         "27.392719428640678",
         "26.85372844012405",
         "27.042974384296993",
         "60804000",
         "24.136638088344522",
         "25.32499351103581",
         "27.192867579186853",
         "24.361314487457275",
         "21.529761395727697",
         "73.12662643508006"
        ]
       ],
       "shape": {
        "columns": 12,
        "rows": 5
       }
      },
      "text/html": [
       "<div>\n",
       "<style scoped>\n",
       "    .dataframe tbody tr th:only-of-type {\n",
       "        vertical-align: middle;\n",
       "    }\n",
       "\n",
       "    .dataframe tbody tr th {\n",
       "        vertical-align: top;\n",
       "    }\n",
       "\n",
       "    .dataframe thead th {\n",
       "        text-align: right;\n",
       "    }\n",
       "</style>\n",
       "<table border=\"1\" class=\"dataframe\">\n",
       "  <thead>\n",
       "    <tr style=\"text-align: right;\">\n",
       "      <th></th>\n",
       "      <th>Date</th>\n",
       "      <th>Close</th>\n",
       "      <th>High</th>\n",
       "      <th>Low</th>\n",
       "      <th>Open</th>\n",
       "      <th>Volume</th>\n",
       "      <th>EMA 25</th>\n",
       "      <th>EMA 12</th>\n",
       "      <th>upper_band</th>\n",
       "      <th>middle_band</th>\n",
       "      <th>lower_band</th>\n",
       "      <th>rsi</th>\n",
       "    </tr>\n",
       "  </thead>\n",
       "  <tbody>\n",
       "    <tr>\n",
       "      <th>0</th>\n",
       "      <td>2020-02-06</td>\n",
       "      <td>25.972179</td>\n",
       "      <td>26.000926</td>\n",
       "      <td>25.251131</td>\n",
       "      <td>25.514637</td>\n",
       "      <td>56566400</td>\n",
       "      <td>23.212258</td>\n",
       "      <td>24.073253</td>\n",
       "      <td>25.548904</td>\n",
       "      <td>23.610919</td>\n",
       "      <td>21.672935</td>\n",
       "      <td>69.315864</td>\n",
       "    </tr>\n",
       "    <tr>\n",
       "      <th>1</th>\n",
       "      <td>2020-02-07</td>\n",
       "      <td>25.636805</td>\n",
       "      <td>26.065602</td>\n",
       "      <td>25.421210</td>\n",
       "      <td>25.627224</td>\n",
       "      <td>77026000</td>\n",
       "      <td>23.398762</td>\n",
       "      <td>24.313800</td>\n",
       "      <td>25.831385</td>\n",
       "      <td>23.762915</td>\n",
       "      <td>21.694445</td>\n",
       "      <td>66.386573</td>\n",
       "    </tr>\n",
       "    <tr>\n",
       "      <th>2</th>\n",
       "      <td>2020-02-10</td>\n",
       "      <td>26.561476</td>\n",
       "      <td>26.568664</td>\n",
       "      <td>25.368510</td>\n",
       "      <td>25.387675</td>\n",
       "      <td>61624400</td>\n",
       "      <td>23.642047</td>\n",
       "      <td>24.659596</td>\n",
       "      <td>26.274288</td>\n",
       "      <td>23.970366</td>\n",
       "      <td>21.666444</td>\n",
       "      <td>70.134117</td>\n",
       "    </tr>\n",
       "    <tr>\n",
       "      <th>3</th>\n",
       "      <td>2020-02-11</td>\n",
       "      <td>26.580639</td>\n",
       "      <td>27.277735</td>\n",
       "      <td>26.369834</td>\n",
       "      <td>26.997458</td>\n",
       "      <td>96885200</td>\n",
       "      <td>23.868093</td>\n",
       "      <td>24.955141</td>\n",
       "      <td>26.676574</td>\n",
       "      <td>24.139609</td>\n",
       "      <td>21.602644</td>\n",
       "      <td>70.208247</td>\n",
       "    </tr>\n",
       "    <tr>\n",
       "      <th>4</th>\n",
       "      <td>2020-02-12</td>\n",
       "      <td>27.359182</td>\n",
       "      <td>27.392719</td>\n",
       "      <td>26.853728</td>\n",
       "      <td>27.042974</td>\n",
       "      <td>60804000</td>\n",
       "      <td>24.136638</td>\n",
       "      <td>25.324994</td>\n",
       "      <td>27.192868</td>\n",
       "      <td>24.361314</td>\n",
       "      <td>21.529761</td>\n",
       "      <td>73.126626</td>\n",
       "    </tr>\n",
       "  </tbody>\n",
       "</table>\n",
       "</div>"
      ],
      "text/plain": [
       "        Date      Close       High        Low       Open    Volume     EMA 25  \\\n",
       "0 2020-02-06  25.972179  26.000926  25.251131  25.514637  56566400  23.212258   \n",
       "1 2020-02-07  25.636805  26.065602  25.421210  25.627224  77026000  23.398762   \n",
       "2 2020-02-10  26.561476  26.568664  25.368510  25.387675  61624400  23.642047   \n",
       "3 2020-02-11  26.580639  27.277735  26.369834  26.997458  96885200  23.868093   \n",
       "4 2020-02-12  27.359182  27.392719  26.853728  27.042974  60804000  24.136638   \n",
       "\n",
       "      EMA 12  upper_band  middle_band  lower_band        rsi  \n",
       "0  24.073253   25.548904    23.610919   21.672935  69.315864  \n",
       "1  24.313800   25.831385    23.762915   21.694445  66.386573  \n",
       "2  24.659596   26.274288    23.970366   21.666444  70.134117  \n",
       "3  24.955141   26.676574    24.139609   21.602644  70.208247  \n",
       "4  25.324994   27.192868    24.361314   21.529761  73.126626  "
      ]
     },
     "execution_count": 4,
     "metadata": {},
     "output_type": "execute_result"
    }
   ],
   "source": [
    "ema_results_25 = indicators.get_ema(quotes, 25)\n",
    "df['EMA 25'] = [r.ema for r in ema_results_25]\n",
    "df['EMA 12'] = [r.ema for r in indicators.get_ema(quotes, 12)]\n",
    "df['upper_band'] = [r.upper_band for r in indicators.get_bollinger_bands(quotes, 20, 2)]\n",
    "df['middle_band'] = [r.sma for r in indicators.get_bollinger_bands(quotes, 20, 2)]\n",
    "df['lower_band'] = [r.lower_band for r in indicators.get_bollinger_bands(quotes, 20, 2)]\n",
    "df['rsi'] = [r.rsi for r in indicators.get_rsi(quotes, 14)]\n",
    "df = df.dropna().reset_index(drop=True)\n",
    "df.head()"
   ]
  },
  {
   "cell_type": "markdown",
   "id": "2e878836",
   "metadata": {},
   "source": [
    "In the code, the reason for changing the column names is that lightweight_charts demands a specific naming structure to plot the data. Now that we have adequate data to work with, let’s make some cool visualizations."
   ]
  },
  {
   "cell_type": "code",
   "execution_count": 5,
   "id": "779b2ca9",
   "metadata": {},
   "outputs": [],
   "source": [
    "if __name__ == '__main__':\n",
    "\n",
    "    chart = Chart()\n",
    "    chart.set(df)\n",
    "    chart.show(block = True)"
   ]
  },
  {
   "cell_type": "markdown",
   "id": "823dc807",
   "metadata": {},
   "source": [
    "It just takes as little as three lines of code to create a graph in the look of TradingView’s charting platform. And the code is very straightforward in nature. We are first creating an instance of the class Chart and assigned it to the chart variable. Then using the set function, we are setting the data of the chart. Finally, we are displaying the created chart with the help of the show function. \n",
    "\n",
    "This output is absolutely stunning for a program of three lines of code. But people who are disappointed at the output after viewing the thumbnail of this article, don't worry! Because now, we are going to up the game by customizing the whole theme of the plot, adding more details, and simply, making it even more beautiful. Here’s the code to do that:"
   ]
  },
  {
   "cell_type": "code",
   "execution_count": 6,
   "id": "86acbbda",
   "metadata": {},
   "outputs": [],
   "source": [
    "if __name__ == '__main__':\n",
    "\n",
    "    chart = Chart(title=\"AAPL Stock Price\", height = 600, width = 1000)\n",
    "\n",
    "    chart.grid(vert_enabled = True, horz_enabled = True)\n",
    "\n",
    "    chart.layout(background_color='#131722', font_family='Trebuchet MS', font_size = 16)\n",
    "\n",
    "    chart.candle_style(up_color='#2962ff', down_color='#e91e63',\n",
    "                    border_up_color='#2962ffcb', border_down_color='#e91e63cb',\n",
    "                    wick_up_color='#2962ffcb', wick_down_color='#e91e63cb')\n",
    "\n",
    "    chart.volume_config(up_color='#2962ffcb', down_color='#e91e63cb')\n",
    "\n",
    "    chart.legend(visible = True, font_family = 'Trebuchet MS', ohlc = True, percent = True)\n",
    "\n",
    "    #####################################################################################\n",
    "\n",
    "    chart.set(df)\n",
    "\n",
    "    # Create line series for EMAs\n",
    "    ema12_line = chart.create_line('EMA 12', color='#ffeb3b', width=1, price_label=True)\n",
    "    ema12_line.set(df[['Date', 'EMA 12']])\n",
    "\n",
    "    ema25_line = chart.create_line('EMA 25', color='#26c6da', width=1, price_label=True)\n",
    "    ema25_line.set(df[['Date', 'EMA 25']])\n",
    "\n",
    "    chart.show(block = True)"
   ]
  },
  {
   "cell_type": "markdown",
   "id": "cad759eb",
   "metadata": {},
   "source": [
    "The code might not be as short as the previous one for the basic plot, but it’s actually very simple. And for easy explanation, I’ve divided the code into two separate parts. The first part is about theme customization. It includes changing the background color, the colors of the candles and volume bars, and so on. Basically, the things related to the style of the plot are dealt with in the first part. The second part is about adding details to the plot. "
   ]
  },
  {
   "cell_type": "markdown",
   "id": "a0a360f2",
   "metadata": {},
   "source": [
    "This is absolutely fantastic! We fully customized the whole look and feel of the plot and added more details like SMA lines and legends for a more insightful graph.\n",
    "\n",
    "\n",
    "Now let’s move our focus from historical graphs to another cool feature provided by the lightweight_charts library which is the real-time charting feature. Real-time charts are extremely useful for day traders to keep track of the latest price movements and TradingView is most preferred for such charts. Just like how we replicated the historical charts of TradingView, let’s do the same thing for real-time charts too. This is the code to create a real-time TradingView chart:"
   ]
  },
  {
   "cell_type": "markdown",
   "id": "f73d4e1e",
   "metadata": {},
   "source": [
    "In this code, we are not actually using the real-time data of stock prices but rather simulating it using the previously extracted historical data. We are first splitting the historical data into two separate dataframes. The first one is used as the initial data for the plot and the second one is used as the real-time data which is done by updating the data points of the plot with the help of a for-loop. "
   ]
  },
  {
   "cell_type": "markdown",
   "id": "32f5aae6",
   "metadata": {},
   "source": [
    "Pretty cool, right?! But like how there was a lot of scope for improvements in the basic historical graph, this real-time chart can also be improved and modified in a lot of places. We can first change the theme of the plot and similar to how we added SMA lines to the historical chart for better insights, we can add more details for an informative visualization. Here’s the code for the modified or advanced version of the initial real-time chart:"
   ]
  },
  {
   "cell_type": "code",
   "execution_count": 7,
   "id": "371230fe",
   "metadata": {},
   "outputs": [],
   "source": [
    "from lightweight_charts import Chart\n",
    "import pandas as pd\n",
    "\n",
    "# Assuming `df` is already a pandas DataFrame with 'Date', 'Open', 'High', 'Low', 'Close', 'EMA 12', and 'EMA 25' columns.\n",
    "# It's good practice to convert the 'Date' column to the correct datetime format.\n",
    "# df['Date'] = pd.to_datetime(df['Date'])\n",
    "\n",
    "if __name__ == '__main__':\n",
    "    rt_chart = Chart()\n",
    "\n",
    "    # Set the main candlestick data for the chart.\n",
    "    # The 'lightweight-charts' library expects a DataFrame with columns like 'Date', 'Open', 'High', 'Low', 'Close'.\n",
    "    rt_chart.set(df)\n",
    "\n",
    "    # Create line series for EMAs\n",
    "    ema12_line = rt_chart.create_line('EMA 12', color='#ffeb3b', width=1, price_label=True)\n",
    "    ema12_line.set(df[['Date', 'EMA 12']])\n",
    "\n",
    "    ema25_line = rt_chart.create_line('EMA 25', color='#26c6da', width=1, price_label=True)\n",
    "    ema25_line.set(df[['Date', 'EMA 25']])\n",
    "\n",
    "    # Initialize a list to hold the markers\n",
    "    markers = []\n",
    "\n",
    "    # Iterate through the DataFrame to find crossover points\n",
    "    for i in range(1, len(df)):\n",
    "        p_ema12, p_ema25 = df.iloc[i-1]['EMA 12'], df.iloc[i-1]['EMA 25']\n",
    "        c_ema12, c_ema25 = df.iloc[i]['EMA 12'], df.iloc[i]['EMA 25']\n",
    "        \n",
    "        current_time = df.iloc[i]['Date']\n",
    "\n",
    "        # Check for buy signal (EMA 12 crosses above EMA 25)\n",
    "        if p_ema12 < p_ema25 and c_ema12 > c_ema25:\n",
    "            markers.append({\n",
    "                'time': current_time,\n",
    "                'position': 'below',\n",
    "                'shape': 'arrow_up',\n",
    "                'color': '#33de3d',\n",
    "                'text': 'Buy'\n",
    "            })\n",
    "        \n",
    "        # Check for sell signal (EMA 12 crosses below EMA 25)\n",
    "        elif p_ema12 > p_ema25 and c_ema12 < c_ema25:\n",
    "            markers.append({\n",
    "                'time': current_time,\n",
    "                'position': 'above',\n",
    "                'shape': 'arrow_down',\n",
    "                'color': '#f485fb',\n",
    "                'text': 'Sell'\n",
    "            })\n",
    "\n",
    "    # Add all markers at once. It's more efficient than adding them individually in a loop.\n",
    "    if markers:\n",
    "        rt_chart.marker_list(markers)\n",
    "    \n",
    "rt_chart.show(block = True)\n"
   ]
  }
 ],
 "metadata": {
  "kernelspec": {
   "display_name": "Python 3",
   "language": "python",
   "name": "python3"
  },
  "language_info": {
   "codemirror_mode": {
    "name": "ipython",
    "version": 3
   },
   "file_extension": ".py",
   "mimetype": "text/x-python",
   "name": "python",
   "nbconvert_exporter": "python",
   "pygments_lexer": "ipython3",
   "version": "3.13.2"
  }
 },
 "nbformat": 4,
 "nbformat_minor": 5
}
