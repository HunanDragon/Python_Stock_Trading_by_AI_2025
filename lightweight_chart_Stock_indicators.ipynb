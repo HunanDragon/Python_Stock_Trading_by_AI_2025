{
 "cells": [
  {
   "cell_type": "markdown",
   "id": "e10163e3-3fea-433a-a92d-6c5f016c3d0b",
   "metadata": {},
   "source": [
    "# Line indicators"
   ]
  },
  {
   "cell_type": "code",
   "execution_count": 11,
   "id": "d9026667-4dd0-40e4-8abf-26515172afb6",
   "metadata": {
    "ExecuteTime": {
     "end_time": "2025-10-13T01:50:35.399861Z",
     "start_time": "2025-10-13T01:50:34.805034Z"
    }
   },
   "outputs": [],
   "source": [
    "import pandas as pd\n",
    "import numpy as np\n",
    "import yfinance as yf\n",
    "from stock_indicators import indicators, Quote\n",
    "from lightweight_charts import Chart\n",
    "import asyncio\n",
    "import nest_asyncio\n",
    "from websockets import Close\n",
    "\n",
    "nest_asyncio.apply()"
   ]
  },
  {
   "cell_type": "code",
   "execution_count": 12,
   "id": "2bfd87c81ee8bc4d",
   "metadata": {
    "ExecuteTime": {
     "end_time": "2025-10-13T01:50:35.877805Z",
     "start_time": "2025-10-13T01:50:35.403426Z"
    }
   },
   "outputs": [
    {
     "name": "stderr",
     "output_type": "stream",
     "text": [
      "C:\\Users\\jwang\\AppData\\Local\\Temp\\ipykernel_12864\\4216576817.py:1: FutureWarning: YF.download() has changed argument auto_adjust default to True\n",
      "  df = yf.download('TQQQ', start='2020-01-01', multi_level_index=False)\n",
      "[*********************100%***********************]  1 of 1 completed\n"
     ]
    },
    {
     "data": {
      "application/vnd.microsoft.datawrangler.viewer.v0+json": {
       "columns": [
        {
         "name": "index",
         "rawType": "int64",
         "type": "integer"
        },
        {
         "name": "Date",
         "rawType": "datetime64[ns]",
         "type": "datetime"
        },
        {
         "name": "Close",
         "rawType": "float64",
         "type": "float"
        },
        {
         "name": "High",
         "rawType": "float64",
         "type": "float"
        },
        {
         "name": "Low",
         "rawType": "float64",
         "type": "float"
        },
        {
         "name": "Open",
         "rawType": "float64",
         "type": "float"
        },
        {
         "name": "Volume",
         "rawType": "int64",
         "type": "integer"
        }
       ],
       "ref": "44af0e9d-938c-49cf-af14-d9ab4b7fcc20",
       "rows": [
        [
         "0",
         "2020-01-02 00:00:00",
         "21.760862350463867",
         "21.760862350463867",
         "21.133238446870383",
         "21.250618196929473",
         "65536000"
        ],
        [
         "1",
         "2020-01-03 00:00:00",
         "21.169170379638672",
         "21.55963873432346",
         "20.898475968066904",
         "20.91045427619482",
         "72590000"
        ],
        [
         "2",
         "2020-01-06 00:00:00",
         "21.571617126464844",
         "21.57880338031629",
         "20.589454340413926",
         "20.66611076088474",
         "64047600"
        ],
        [
         "3",
         "2020-01-07 00:00:00",
         "21.545265197753906",
         "21.746487605734004",
         "21.35841529673435",
         "21.59317477271113",
         "53849600"
        ],
        [
         "4",
         "2020-01-08 00:00:00",
         "22.041139602661133",
         "22.345369280466077",
         "21.447050928211276",
         "21.550058172375163",
         "79582400"
        ]
       ],
       "shape": {
        "columns": 6,
        "rows": 5
       }
      },
      "text/html": [
       "<div>\n",
       "<style scoped>\n",
       "    .dataframe tbody tr th:only-of-type {\n",
       "        vertical-align: middle;\n",
       "    }\n",
       "\n",
       "    .dataframe tbody tr th {\n",
       "        vertical-align: top;\n",
       "    }\n",
       "\n",
       "    .dataframe thead th {\n",
       "        text-align: right;\n",
       "    }\n",
       "</style>\n",
       "<table border=\"1\" class=\"dataframe\">\n",
       "  <thead>\n",
       "    <tr style=\"text-align: right;\">\n",
       "      <th></th>\n",
       "      <th>Date</th>\n",
       "      <th>Close</th>\n",
       "      <th>High</th>\n",
       "      <th>Low</th>\n",
       "      <th>Open</th>\n",
       "      <th>Volume</th>\n",
       "    </tr>\n",
       "  </thead>\n",
       "  <tbody>\n",
       "    <tr>\n",
       "      <th>0</th>\n",
       "      <td>2020-01-02</td>\n",
       "      <td>21.760862</td>\n",
       "      <td>21.760862</td>\n",
       "      <td>21.133238</td>\n",
       "      <td>21.250618</td>\n",
       "      <td>65536000</td>\n",
       "    </tr>\n",
       "    <tr>\n",
       "      <th>1</th>\n",
       "      <td>2020-01-03</td>\n",
       "      <td>21.169170</td>\n",
       "      <td>21.559639</td>\n",
       "      <td>20.898476</td>\n",
       "      <td>20.910454</td>\n",
       "      <td>72590000</td>\n",
       "    </tr>\n",
       "    <tr>\n",
       "      <th>2</th>\n",
       "      <td>2020-01-06</td>\n",
       "      <td>21.571617</td>\n",
       "      <td>21.578803</td>\n",
       "      <td>20.589454</td>\n",
       "      <td>20.666111</td>\n",
       "      <td>64047600</td>\n",
       "    </tr>\n",
       "    <tr>\n",
       "      <th>3</th>\n",
       "      <td>2020-01-07</td>\n",
       "      <td>21.545265</td>\n",
       "      <td>21.746488</td>\n",
       "      <td>21.358415</td>\n",
       "      <td>21.593175</td>\n",
       "      <td>53849600</td>\n",
       "    </tr>\n",
       "    <tr>\n",
       "      <th>4</th>\n",
       "      <td>2020-01-08</td>\n",
       "      <td>22.041140</td>\n",
       "      <td>22.345369</td>\n",
       "      <td>21.447051</td>\n",
       "      <td>21.550058</td>\n",
       "      <td>79582400</td>\n",
       "    </tr>\n",
       "  </tbody>\n",
       "</table>\n",
       "</div>"
      ],
      "text/plain": [
       "        Date      Close       High        Low       Open    Volume\n",
       "0 2020-01-02  21.760862  21.760862  21.133238  21.250618  65536000\n",
       "1 2020-01-03  21.169170  21.559639  20.898476  20.910454  72590000\n",
       "2 2020-01-06  21.571617  21.578803  20.589454  20.666111  64047600\n",
       "3 2020-01-07  21.545265  21.746488  21.358415  21.593175  53849600\n",
       "4 2020-01-08  22.041140  22.345369  21.447051  21.550058  79582400"
      ]
     },
     "execution_count": 12,
     "metadata": {},
     "output_type": "execute_result"
    }
   ],
   "source": [
    "df = yf.download('TQQQ', start='2020-01-01', multi_level_index=False)\n",
    "df.reset_index(inplace=True)\n",
    "\n",
    "df.head()\n"
   ]
  },
  {
   "cell_type": "code",
   "execution_count": 13,
   "id": "6a7335c3",
   "metadata": {},
   "outputs": [],
   "source": [
    "quotes = [\n",
    "    Quote(d, o, h, l, c, v)\n",
    "    for d, o, h, l, c, v in zip(\n",
    "        df['Date'],\n",
    "        df['Open'],\n",
    "        df['High'],\n",
    "        df['Low'],\n",
    "        df['Close'],\n",
    "        df['Volume']\n",
    "    )\n",
    "]"
   ]
  },
  {
   "cell_type": "code",
   "execution_count": 14,
   "id": "497af6a4",
   "metadata": {},
   "outputs": [
    {
     "data": {
      "application/vnd.microsoft.datawrangler.viewer.v0+json": {
       "columns": [
        {
         "name": "index",
         "rawType": "int64",
         "type": "integer"
        },
        {
         "name": "Date",
         "rawType": "datetime64[ns]",
         "type": "datetime"
        },
        {
         "name": "Close",
         "rawType": "float64",
         "type": "float"
        },
        {
         "name": "High",
         "rawType": "float64",
         "type": "float"
        },
        {
         "name": "Low",
         "rawType": "float64",
         "type": "float"
        },
        {
         "name": "Open",
         "rawType": "float64",
         "type": "float"
        },
        {
         "name": "Volume",
         "rawType": "int64",
         "type": "integer"
        },
        {
         "name": "EMA 25",
         "rawType": "float64",
         "type": "float"
        },
        {
         "name": "EMA 12",
         "rawType": "float64",
         "type": "float"
        },
        {
         "name": "upper_band",
         "rawType": "float64",
         "type": "float"
        },
        {
         "name": "middle_band",
         "rawType": "float64",
         "type": "float"
        },
        {
         "name": "lower_band",
         "rawType": "float64",
         "type": "float"
        },
        {
         "name": "rsi",
         "rawType": "float64",
         "type": "float"
        }
       ],
       "ref": "eb283f90-5e68-4150-b68f-f4066210f0a8",
       "rows": [
        [
         "0",
         "2020-02-06 00:00:00",
         "25.97218132019043",
         "26.00092816713552",
         "25.251132395410867",
         "25.51463876235701",
         "56566400",
         "23.212257537841797",
         "24.073253831125182",
         "25.548903830923603",
         "23.610919189453124",
         "21.672934547982646",
         "69.31588533952052"
        ],
        [
         "1",
         "2020-02-07 00:00:00",
         "25.636804580688477",
         "26.065602049480034",
         "25.421209660377134",
         "25.62722412756488",
         "77026000",
         "23.398761156522312",
         "24.313800100288766",
         "25.831384593804824",
         "23.76291456222534",
         "21.694444530645857",
         "66.3865768113117"
        ],
        [
         "2",
         "2020-02-10 00:00:00",
         "26.561477661132812",
         "26.568665743509168",
         "25.36851185534147",
         "25.38767641974484",
         "61624400",
         "23.64204704149235",
         "24.659596648110927",
         "26.274288840652147",
         "23.970366382598876",
         "21.666443924545604",
         "70.13412743742202"
        ],
        [
         "3",
         "2020-02-11 00:00:00",
         "26.580636978149414",
         "27.277732792729665",
         "26.36983229422846",
         "26.997456119652863",
         "96885200",
         "23.8680924212352",
         "24.955141314270694",
         "26.67657426235741",
         "24.139609336853027",
         "21.602644411348646",
         "70.20824265359767"
        ],
        [
         "4",
         "2020-02-12 00:00:00",
         "27.359180450439453",
         "27.392717518954008",
         "26.8537265680132",
         "27.04297249899284",
         "60804000",
         "24.13663765425091",
         "25.32499348906589",
         "27.19286708094145",
         "24.36131420135498",
         "21.529761321768508",
         "73.12662331821609"
        ]
       ],
       "shape": {
        "columns": 12,
        "rows": 5
       }
      },
      "text/html": [
       "<div>\n",
       "<style scoped>\n",
       "    .dataframe tbody tr th:only-of-type {\n",
       "        vertical-align: middle;\n",
       "    }\n",
       "\n",
       "    .dataframe tbody tr th {\n",
       "        vertical-align: top;\n",
       "    }\n",
       "\n",
       "    .dataframe thead th {\n",
       "        text-align: right;\n",
       "    }\n",
       "</style>\n",
       "<table border=\"1\" class=\"dataframe\">\n",
       "  <thead>\n",
       "    <tr style=\"text-align: right;\">\n",
       "      <th></th>\n",
       "      <th>Date</th>\n",
       "      <th>Close</th>\n",
       "      <th>High</th>\n",
       "      <th>Low</th>\n",
       "      <th>Open</th>\n",
       "      <th>Volume</th>\n",
       "      <th>EMA 25</th>\n",
       "      <th>EMA 12</th>\n",
       "      <th>upper_band</th>\n",
       "      <th>middle_band</th>\n",
       "      <th>lower_band</th>\n",
       "      <th>rsi</th>\n",
       "    </tr>\n",
       "  </thead>\n",
       "  <tbody>\n",
       "    <tr>\n",
       "      <th>0</th>\n",
       "      <td>2020-02-06</td>\n",
       "      <td>25.972181</td>\n",
       "      <td>26.000928</td>\n",
       "      <td>25.251132</td>\n",
       "      <td>25.514639</td>\n",
       "      <td>56566400</td>\n",
       "      <td>23.212258</td>\n",
       "      <td>24.073254</td>\n",
       "      <td>25.548904</td>\n",
       "      <td>23.610919</td>\n",
       "      <td>21.672935</td>\n",
       "      <td>69.315885</td>\n",
       "    </tr>\n",
       "    <tr>\n",
       "      <th>1</th>\n",
       "      <td>2020-02-07</td>\n",
       "      <td>25.636805</td>\n",
       "      <td>26.065602</td>\n",
       "      <td>25.421210</td>\n",
       "      <td>25.627224</td>\n",
       "      <td>77026000</td>\n",
       "      <td>23.398761</td>\n",
       "      <td>24.313800</td>\n",
       "      <td>25.831385</td>\n",
       "      <td>23.762915</td>\n",
       "      <td>21.694445</td>\n",
       "      <td>66.386577</td>\n",
       "    </tr>\n",
       "    <tr>\n",
       "      <th>2</th>\n",
       "      <td>2020-02-10</td>\n",
       "      <td>26.561478</td>\n",
       "      <td>26.568666</td>\n",
       "      <td>25.368512</td>\n",
       "      <td>25.387676</td>\n",
       "      <td>61624400</td>\n",
       "      <td>23.642047</td>\n",
       "      <td>24.659597</td>\n",
       "      <td>26.274289</td>\n",
       "      <td>23.970366</td>\n",
       "      <td>21.666444</td>\n",
       "      <td>70.134127</td>\n",
       "    </tr>\n",
       "    <tr>\n",
       "      <th>3</th>\n",
       "      <td>2020-02-11</td>\n",
       "      <td>26.580637</td>\n",
       "      <td>27.277733</td>\n",
       "      <td>26.369832</td>\n",
       "      <td>26.997456</td>\n",
       "      <td>96885200</td>\n",
       "      <td>23.868092</td>\n",
       "      <td>24.955141</td>\n",
       "      <td>26.676574</td>\n",
       "      <td>24.139609</td>\n",
       "      <td>21.602644</td>\n",
       "      <td>70.208243</td>\n",
       "    </tr>\n",
       "    <tr>\n",
       "      <th>4</th>\n",
       "      <td>2020-02-12</td>\n",
       "      <td>27.359180</td>\n",
       "      <td>27.392718</td>\n",
       "      <td>26.853727</td>\n",
       "      <td>27.042972</td>\n",
       "      <td>60804000</td>\n",
       "      <td>24.136638</td>\n",
       "      <td>25.324993</td>\n",
       "      <td>27.192867</td>\n",
       "      <td>24.361314</td>\n",
       "      <td>21.529761</td>\n",
       "      <td>73.126623</td>\n",
       "    </tr>\n",
       "  </tbody>\n",
       "</table>\n",
       "</div>"
      ],
      "text/plain": [
       "        Date      Close       High        Low       Open    Volume     EMA 25  \\\n",
       "0 2020-02-06  25.972181  26.000928  25.251132  25.514639  56566400  23.212258   \n",
       "1 2020-02-07  25.636805  26.065602  25.421210  25.627224  77026000  23.398761   \n",
       "2 2020-02-10  26.561478  26.568666  25.368512  25.387676  61624400  23.642047   \n",
       "3 2020-02-11  26.580637  27.277733  26.369832  26.997456  96885200  23.868092   \n",
       "4 2020-02-12  27.359180  27.392718  26.853727  27.042972  60804000  24.136638   \n",
       "\n",
       "      EMA 12  upper_band  middle_band  lower_band        rsi  \n",
       "0  24.073254   25.548904    23.610919   21.672935  69.315885  \n",
       "1  24.313800   25.831385    23.762915   21.694445  66.386577  \n",
       "2  24.659597   26.274289    23.970366   21.666444  70.134127  \n",
       "3  24.955141   26.676574    24.139609   21.602644  70.208243  \n",
       "4  25.324993   27.192867    24.361314   21.529761  73.126623  "
      ]
     },
     "execution_count": 14,
     "metadata": {},
     "output_type": "execute_result"
    }
   ],
   "source": [
    "ema_results_25 = indicators.get_ema(quotes, 25)\n",
    "df['EMA 25'] = [r.ema for r in ema_results_25]\n",
    "df['EMA 12'] = [r.ema for r in indicators.get_ema(quotes, 12)]\n",
    "df['upper_band'] = [r.upper_band for r in indicators.get_bollinger_bands(quotes, 20, 2)]\n",
    "df['middle_band'] = [r.sma for r in indicators.get_bollinger_bands(quotes, 20, 2)]\n",
    "df['lower_band'] = [r.lower_band for r in indicators.get_bollinger_bands(quotes, 20, 2)]\n",
    "df['rsi'] = [r.rsi for r in indicators.get_rsi(quotes, 14)]\n",
    "df = df.dropna().reset_index(drop=True)\n",
    "df.head()"
   ]
  },
  {
   "cell_type": "code",
   "execution_count": 22,
   "id": "e22582ae-8ef4-4dbe-b6ea-c13fb2025dd1",
   "metadata": {
    "ExecuteTime": {
     "end_time": "2025-10-13T01:51:24.191272Z",
     "start_time": "2025-10-13T01:50:35.906064Z"
    }
   },
   "outputs": [],
   "source": [
    "if __name__ == '__main__':\n",
    "    chart = Chart()\n",
    "    chart.legend(visible=True)\n",
    "\n",
    "    # Convert the 'Date' column to the 'time' format expected by lightweight-charts\n",
    "    df['time'] = df['Date'].apply(lambda x: int(x.timestamp()))\n",
    "\n",
    "    # Calculate the signals\n",
    "    df['ema_12_prev'] = df['EMA 12'].shift(1)\n",
    "    df['ema_25_prev'] = df['EMA 25'].shift(1)\n",
    "\n",
    "    buy_signals = df[\n",
    "        (df['EMA 12'] > df['EMA 25']) & (df['ema_12_prev'] <= df['ema_25_prev'])\n",
    "    ]\n",
    "    sell_signals = df[\n",
    "        (df['EMA 12'] < df['EMA 25']) & (df['ema_12_prev'] >= df['ema_25_prev'])\n",
    "    ]\n",
    "\n",
    "    # Create line series for EMAs\n",
    "    ema12_line = chart.create_line('EMA 12', color='#ffeb3b', width=1, price_label=True)\n",
    "    ema12_line.set(df[['Date', 'EMA 12']])\n",
    "    \n",
    "    ema25_line = chart.create_line('EMA 25', color='#26c6da', width=1, price_label=True)\n",
    "    ema25_line.set(df[['Date', 'EMA 25']])\n",
    "    # Add markers for signals\n",
    "    # 'CARETUP' and 'CARETDOWN' are appropriate shapes for buy and sell signals\n",
    "    for _, row in buy_signals.iterrows():\n",
    "        chart.marker(\n",
    "            time=row['Date'],\n",
    "            position='below',  # Place the buy signal below the bar\n",
    "            shape='caretUp',  # Use an upward-pointing triangle for buy\n",
    "            color='green',\n",
    "            text='BUY'\n",
    "        )\n",
    "\n",
    "    for _, row in sell_signals.iterrows():\n",
    "        chart.marker(\n",
    "            time=row['time'],\n",
    "            position='above',  # Place the sell signal above the bar\n",
    "            shape='caretDown',  # Use a downward-pointing triangle for sell\n",
    "            color='red',\n",
    "            text='SELL'\n",
    "        )\n",
    "    \n",
    "    chart.set(df[['Date', 'Open', 'High', 'Low', 'Close', 'Volume']])\n",
    "    \n",
    "    chart.show(block=True)\n",
    "\n",
    "\n",
    "\n"
   ]
  },
  {
   "cell_type": "code",
   "execution_count": null,
   "id": "3b8c3db43dc98255",
   "metadata": {
    "ExecuteTime": {
     "end_time": "2025-10-13T01:52:04.004737Z",
     "start_time": "2025-10-13T01:51:28.296965Z"
    }
   },
   "outputs": [],
   "source": [
    "# Draw Bollinger Bands\n",
    "chart = Chart()\n",
    "chart.legend(visible=True)\n",
    "\n",
    "chart.set(df)\n",
    "\n",
    "\n",
    "upper_line = chart.create_line('UpperBB', color = 'red', width = 1, price_label = True)\n",
    "upper = pd.DataFrame(columns = ['time', 'UpperBB'])\n",
    "upper['time'] = df.Date\n",
    "upper['UpperBB'] = df['upper_band']\n",
    "upper_line.set(upper.dropna())\n",
    "\n",
    "middle_line = chart.create_line('MiddleBB', color = 'orange', width = 1, price_label = True)\n",
    "middle = pd.DataFrame(columns = ['time', 'MiddleBB'])\n",
    "middle['time'] = df.Date\n",
    "middle['MiddleBB'] = df['middle_band']\n",
    "middle_line.set(middle.dropna())\n",
    "\n",
    "lower_line = chart.create_line('LowerBB', color = 'green', width = 1, price_label = True)\n",
    "lower = pd.DataFrame(columns = ['time', 'LowerBB'])\n",
    "lower['time'] = df.Date\n",
    "lower['LowerBB'] = df['lower_band']\n",
    "lower_line.set(lower.dropna())\n",
    "\n",
    "# Show the chart\n",
    "chart.show(block=True)"
   ]
  },
  {
   "cell_type": "code",
   "execution_count": null,
   "id": "8c06a1e5d84552b3",
   "metadata": {
    "ExecuteTime": {
     "end_time": "2025-10-13T01:55:10.435739Z",
     "start_time": "2025-10-13T01:54:43.104855Z"
    }
   },
   "outputs": [],
   "source": [
    "if __name__ == '__main__':\n",
    "    # Create the main candlestick chart\n",
    "    chart = Chart(inner_height=0.8, width=1)\n",
    "    chart.time_scale(visible=False)\n",
    "    chart.set(df)\n",
    "\n",
    "    # Create a sub-chart for the RSI indicator\n",
    "    rsi_chart = chart.create_subchart(height=0.2, width=1, sync=True)\n",
    "    rsi_line = rsi_chart.create_line('RSI14', color = 'red', width = 1, price_label = True)\n",
    "    rsi = pd.DataFrame(columns = ['time', 'RSI14'])\n",
    "    rsi['time'] = df.Date\n",
    "    rsi['RSI14'] = df['rsi']\n",
    "    rsi_line.set(rsi)\n",
    "\n",
    "\n",
    "    chart.show(block=True)"
   ]
  }
 ],
 "metadata": {
  "kernelspec": {
   "display_name": "Python 3",
   "language": "python",
   "name": "python3"
  },
  "language_info": {
   "codemirror_mode": {
    "name": "ipython",
    "version": 3
   },
   "file_extension": ".py",
   "mimetype": "text/x-python",
   "name": "python",
   "nbconvert_exporter": "python",
   "pygments_lexer": "ipython3",
   "version": "3.13.2"
  }
 },
 "nbformat": 4,
 "nbformat_minor": 5
}
