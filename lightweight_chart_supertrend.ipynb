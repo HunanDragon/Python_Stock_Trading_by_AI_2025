{
 "cells": [
  {
   "cell_type": "code",
   "execution_count": null,
   "id": "a26cb90a",
   "metadata": {},
   "outputs": [],
   "source": [
    "import pandas as pd\n",
    "import numpy as np\n",
    "\n",
    "def calculate_supertrend(df, period=10, multiplier=3):\n",
    "    # Calculate ATR\n",
    "    high_low = df['high'] - df['low']\n",
    "    high_prev_close = abs(df['high'] - df['close'].shift())\n",
    "    low_prev_close = abs(df['low'] - df['close'].shift())\n",
    "    tr = pd.DataFrame({'hl': high_low, 'hpc': high_prev_close, 'lpc': low_prev_close}).max(axis=1)\n",
    "    atr = tr.ewm(span=period, adjust=False).mean()\n",
    "\n",
    "    # Calculate basic upper and lower bands\n",
    "    basic_upper_band = ((df['high'] + df['low']) / 2) + (multiplier * atr)\n",
    "    basic_lower_band = ((df['high'] + df['low']) / 2) - (multiplier * atr)\n",
    "\n",
    "    # Calculate final upper and lower bands\n",
    "    final_upper_band = np.zeros(len(df))\n",
    "    final_lower_band = np.zeros(len(df))\n",
    "    supertrend = np.zeros(len(df))\n",
    "    trend = np.zeros(len(df)) # 1 for uptrend, -1 for downtrend\n",
    "\n",
    "    for i in range(1, len(df)):\n",
    "        if df['close'].iloc[i] > final_upper_band[i-1]:\n",
    "            trend[i] = 1 # Uptrend\n",
    "        elif df['close'].iloc[i] < final_lower_band[i-1]:\n",
    "            trend[i] = -1 # Downtrend\n",
    "        else:\n",
    "            trend[i] = trend[i-1] # No change\n",
    "\n",
    "        if trend[i] == 1:\n",
    "            final_lower_band[i] = max(basic_lower_band.iloc[i], final_lower_band[i-1] if trend[i-1] == 1 else basic_lower_band.iloc[i])\n",
    "            final_upper_band[i] = basic_upper_band.iloc[i]\n",
    "            supertrend[i] = final_lower_band[i]\n",
    "        else: # Downtrend\n",
    "            final_upper_band[i] = min(basic_upper_band.iloc[i], final_upper_band[i-1] if trend[i-1] == -1 else basic_upper_band.iloc[i])\n",
    "            final_lower_band[i] = basic_lower_band.iloc[i]\n",
    "            supertrend[i] = final_upper_band[i]\n",
    "\n",
    "    df['supertrend'] = supertrend\n",
    "    return df"
   ]
  },
  {
   "cell_type": "code",
   "execution_count": null,
   "id": "c7ba94d1",
   "metadata": {},
   "outputs": [],
   "source": [
    "from lightweight_charts import Chart\n",
    "import pandas as pd\n",
    "\n",
    "# Assuming df contains your OHLCV data and 'supertrend' column from the previous step\n",
    "# df = calculate_supertrend(df) \n",
    "\n",
    "chart = Chart()\n",
    "chart.set(df) # Set your OHLCV data\n",
    "\n",
    "# Add the Supertrend line series\n",
    "chart.create_line_series(\n",
    "    data=[{'time': row['time'], 'value': row['supertrend']} for index, row in df.iterrows()],\n",
    "    line_width=2,\n",
    "    color='blue', # Or change color based on trend\n",
    "    title='Supertrend'\n",
    ")\n",
    "\n",
    "chart.show(block=True)"
   ]
  }
 ],
 "metadata": {
  "language_info": {
   "name": "python"
  }
 },
 "nbformat": 4,
 "nbformat_minor": 5
}
