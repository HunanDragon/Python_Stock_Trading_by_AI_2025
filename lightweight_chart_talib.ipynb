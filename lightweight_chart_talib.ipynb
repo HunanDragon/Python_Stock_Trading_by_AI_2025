{
 "cells": [
  {
   "cell_type": "markdown",
   "id": "e10163e3-3fea-433a-a92d-6c5f016c3d0b",
   "metadata": {},
   "source": [
    "# Line indicators"
   ]
  },
  {
   "cell_type": "code",
   "id": "d9026667-4dd0-40e4-8abf-26515172afb6",
   "metadata": {
    "ExecuteTime": {
     "end_time": "2025-10-13T01:50:35.399861Z",
     "start_time": "2025-10-13T01:50:34.805034Z"
    }
   },
   "source": [
    "import pandas as pd\n",
    "import numpy as np\n",
    "import yfinance as yf\n",
    "import talib as ta\n",
    "from lightweight_charts import Chart\n",
    "import asyncio\n",
    "import nest_asyncio\n",
    "from websockets import Close\n",
    "\n",
    "nest_asyncio.apply()"
   ],
   "outputs": [],
   "execution_count": 1
  },
  {
   "metadata": {
    "ExecuteTime": {
     "end_time": "2025-10-13T01:50:35.877805Z",
     "start_time": "2025-10-13T01:50:35.403426Z"
    }
   },
   "cell_type": "code",
   "source": [
    "df = yf.download('TQQQ', start='2020-01-01', multi_level_index=False)\n",
    "df.reset_index(inplace=True)\n",
    "\n",
    "df.head()"
   ],
   "id": "2bfd87c81ee8bc4d",
   "outputs": [
    {
     "name": "stderr",
     "output_type": "stream",
     "text": [
      "C:\\Users\\jwang\\AppData\\Local\\Temp\\ipykernel_7524\\4216576817.py:1: FutureWarning: YF.download() has changed argument auto_adjust default to True\n",
      "  df = yf.download('TQQQ', start='2020-01-01', multi_level_index=False)\n",
      "[*********************100%***********************]  1 of 1 completed\n"
     ]
    },
    {
     "data": {
      "text/plain": [
       "        Date      Close       High        Low       Open    Volume\n",
       "0 2020-01-02  21.760862  21.760862  21.133238  21.250618  65536000\n",
       "1 2020-01-03  21.169172  21.559641  20.898478  20.910456  72590000\n",
       "2 2020-01-06  21.571619  21.578805  20.589456  20.666113  64047600\n",
       "3 2020-01-07  21.545263  21.746486  21.358413  21.593173  53849600\n",
       "4 2020-01-08  22.041138  22.345367  21.447049  21.550056  79582400"
      ],
      "text/html": [
       "<div>\n",
       "<style scoped>\n",
       "    .dataframe tbody tr th:only-of-type {\n",
       "        vertical-align: middle;\n",
       "    }\n",
       "\n",
       "    .dataframe tbody tr th {\n",
       "        vertical-align: top;\n",
       "    }\n",
       "\n",
       "    .dataframe thead th {\n",
       "        text-align: right;\n",
       "    }\n",
       "</style>\n",
       "<table border=\"1\" class=\"dataframe\">\n",
       "  <thead>\n",
       "    <tr style=\"text-align: right;\">\n",
       "      <th></th>\n",
       "      <th>Date</th>\n",
       "      <th>Close</th>\n",
       "      <th>High</th>\n",
       "      <th>Low</th>\n",
       "      <th>Open</th>\n",
       "      <th>Volume</th>\n",
       "    </tr>\n",
       "  </thead>\n",
       "  <tbody>\n",
       "    <tr>\n",
       "      <th>0</th>\n",
       "      <td>2020-01-02</td>\n",
       "      <td>21.760862</td>\n",
       "      <td>21.760862</td>\n",
       "      <td>21.133238</td>\n",
       "      <td>21.250618</td>\n",
       "      <td>65536000</td>\n",
       "    </tr>\n",
       "    <tr>\n",
       "      <th>1</th>\n",
       "      <td>2020-01-03</td>\n",
       "      <td>21.169172</td>\n",
       "      <td>21.559641</td>\n",
       "      <td>20.898478</td>\n",
       "      <td>20.910456</td>\n",
       "      <td>72590000</td>\n",
       "    </tr>\n",
       "    <tr>\n",
       "      <th>2</th>\n",
       "      <td>2020-01-06</td>\n",
       "      <td>21.571619</td>\n",
       "      <td>21.578805</td>\n",
       "      <td>20.589456</td>\n",
       "      <td>20.666113</td>\n",
       "      <td>64047600</td>\n",
       "    </tr>\n",
       "    <tr>\n",
       "      <th>3</th>\n",
       "      <td>2020-01-07</td>\n",
       "      <td>21.545263</td>\n",
       "      <td>21.746486</td>\n",
       "      <td>21.358413</td>\n",
       "      <td>21.593173</td>\n",
       "      <td>53849600</td>\n",
       "    </tr>\n",
       "    <tr>\n",
       "      <th>4</th>\n",
       "      <td>2020-01-08</td>\n",
       "      <td>22.041138</td>\n",
       "      <td>22.345367</td>\n",
       "      <td>21.447049</td>\n",
       "      <td>21.550056</td>\n",
       "      <td>79582400</td>\n",
       "    </tr>\n",
       "  </tbody>\n",
       "</table>\n",
       "</div>"
      ]
     },
     "execution_count": 2,
     "metadata": {},
     "output_type": "execute_result"
    }
   ],
   "execution_count": 2
  },
  {
   "metadata": {
    "ExecuteTime": {
     "end_time": "2025-10-13T01:51:24.191272Z",
     "start_time": "2025-10-13T01:50:35.906064Z"
    }
   },
   "cell_type": "code",
   "source": [
    "if __name__ =='__main__':\n",
    "    chart = Chart()\n",
    "    chart.legend(visible=True)\n",
    "\n",
    "    chart.set(df)\n",
    "\n",
    "    ema12_line = chart.create_line('EMA 12', color = '#ffeb3b', width = 1, price_label = True)\n",
    "    ema12 = pd.DataFrame(columns = ['time', 'EMA 12'])\n",
    "    ema12['time'] = df.Date\n",
    "    ema12['EMA 12'] = ta.EMA(df['Close'], 12)\n",
    "    ema12_line.set(ema12.dropna())\n",
    "\n",
    "    ema25_line = chart.create_line('EMA 25', color = '#26c6da', width = 1, price_label = True)\n",
    "    ema25 = pd.DataFrame(columns = ['time', 'EMA 25'])\n",
    "    ema25['time'] = df.Date\n",
    "    ema25['EMA 25'] = ta.EMA(df['Close'], 25)\n",
    "    ema25_line.set(ema25.dropna())\n",
    "\n",
    "    chart.show(block=True)\n"
   ],
   "id": "e22582ae-8ef4-4dbe-b6ea-c13fb2025dd1",
   "outputs": [],
   "execution_count": 3
  },
  {
   "metadata": {
    "ExecuteTime": {
     "end_time": "2025-10-13T01:52:04.004737Z",
     "start_time": "2025-10-13T01:51:28.296965Z"
    }
   },
   "cell_type": "code",
   "source": [
    "# Draw Bollinger Bands\n",
    "chart = Chart()\n",
    "chart.legend(visible=True)\n",
    "\n",
    "chart.set(df)\n",
    "\n",
    "# Calculate Bollinger Bands\n",
    "# Default timeperiod=20, nbdevup=2, nbdevdn=2\n",
    "upper_band, middle_band, lower_band = ta.BBANDS(df['Close'], timeperiod=20, nbdevup=2, nbdevdn=2)\n",
    "\n",
    "# Add the bands to your dfFrame\n",
    "df['upper_band'] = upper_band\n",
    "df['middle_band'] = middle_band\n",
    "df['lower_band'] = lower_band\n",
    "\n",
    "# Drop rows with NaN values resulting from the calculation\n",
    "df.dropna(inplace=True)\n",
    "\n",
    "\n",
    "upper_line = chart.create_line('UpperBB', color = 'red', width = 1, price_label = True)\n",
    "upper = pd.DataFrame(columns = ['time', 'UpperBB'])\n",
    "upper['time'] = df.Date\n",
    "upper['UpperBB'] = upper_band\n",
    "upper_line.set(upper.dropna())\n",
    "\n",
    "middle_line = chart.create_line('MiddleBB', color = 'orange', width = 1, price_label = True)\n",
    "middle = pd.DataFrame(columns = ['time', 'MiddleBB'])\n",
    "middle['time'] = df.Date\n",
    "middle['MiddleBB'] = middle_band\n",
    "middle_line.set(middle.dropna())\n",
    "\n",
    "lower_line = chart.create_line('LowerBB', color = 'green', width = 1, price_label = True)\n",
    "lower = pd.DataFrame(columns = ['time', 'LowerBB'])\n",
    "lower['time'] = df.Date\n",
    "lower['LowerBB'] = lower_band\n",
    "lower_line.set(lower.dropna())\n",
    "\n",
    "# Show the chart\n",
    "chart.show(block=True)"
   ],
   "id": "3b8c3db43dc98255",
   "outputs": [],
   "execution_count": 4
  },
  {
   "metadata": {
    "ExecuteTime": {
     "end_time": "2025-10-13T01:53:50.852361Z",
     "start_time": "2025-10-13T01:53:50.848865Z"
    }
   },
   "cell_type": "code",
   "source": [
    "\n",
    "# Calculate the RSI. TA-Lib expects NumPy arrays.\n",
    "df['rsi'] = ta.RSI(df['Close'], timeperiod=14)\n",
    "\n",
    "# Drop rows with NaN values resulting from the RSI calculation\n",
    "df.dropna(subset=['rsi'], inplace=True)"
   ],
   "id": "a9c52044b9e9081c",
   "outputs": [],
   "execution_count": 8
  },
  {
   "metadata": {
    "ExecuteTime": {
     "end_time": "2025-10-13T01:55:10.435739Z",
     "start_time": "2025-10-13T01:54:43.104855Z"
    }
   },
   "cell_type": "code",
   "source": [
    "if __name__ == '__main__':\n",
    "    # Create the main candlestick chart\n",
    "    chart = Chart(toolbox=True)\n",
    "    chart.time_scale(visible=False)\n",
    "    chart.set(df)\n",
    "\n",
    "    # Create a sub-chart for the RSI indicator\n",
    "    rsi_chart = chart.create_subchart(height=0.3, width=1, sync=True)\n",
    "    rsi_line = rsi_chart.create_line('RSI14', color = 'red', width = 1, price_label = True)\n",
    "    rsi = pd.DataFrame(columns = ['time', 'RSI14'])\n",
    "    rsi['time'] = df.Date\n",
    "    rsi['RSI14'] = df['rsi']\n",
    "    rsi_line.set(rsi)\n",
    "\n",
    "\n",
    "    chart.show(block=True)"
   ],
   "id": "8c06a1e5d84552b3",
   "outputs": [],
   "execution_count": 10
  },
  {
   "metadata": {
    "ExecuteTime": {
     "end_time": "2025-10-13T01:52:23.448621Z",
     "start_time": "2025-10-13T01:52:23.442516Z"
    }
   },
   "cell_type": "code",
   "source": "rsi.head()",
   "id": "5f06b3a39e168abf",
   "outputs": [
    {
     "data": {
      "text/plain": [
       "         time      RSI14\n",
       "47 2020-03-11  27.360420\n",
       "48 2020-03-12  23.681095\n",
       "49 2020-03-13  30.840280\n",
       "50 2020-03-16  26.499040\n",
       "51 2020-03-17  29.796602"
      ],
      "text/html": [
       "<div>\n",
       "<style scoped>\n",
       "    .dataframe tbody tr th:only-of-type {\n",
       "        vertical-align: middle;\n",
       "    }\n",
       "\n",
       "    .dataframe tbody tr th {\n",
       "        vertical-align: top;\n",
       "    }\n",
       "\n",
       "    .dataframe thead th {\n",
       "        text-align: right;\n",
       "    }\n",
       "</style>\n",
       "<table border=\"1\" class=\"dataframe\">\n",
       "  <thead>\n",
       "    <tr style=\"text-align: right;\">\n",
       "      <th></th>\n",
       "      <th>time</th>\n",
       "      <th>RSI14</th>\n",
       "    </tr>\n",
       "  </thead>\n",
       "  <tbody>\n",
       "    <tr>\n",
       "      <th>47</th>\n",
       "      <td>2020-03-11</td>\n",
       "      <td>27.360420</td>\n",
       "    </tr>\n",
       "    <tr>\n",
       "      <th>48</th>\n",
       "      <td>2020-03-12</td>\n",
       "      <td>23.681095</td>\n",
       "    </tr>\n",
       "    <tr>\n",
       "      <th>49</th>\n",
       "      <td>2020-03-13</td>\n",
       "      <td>30.840280</td>\n",
       "    </tr>\n",
       "    <tr>\n",
       "      <th>50</th>\n",
       "      <td>2020-03-16</td>\n",
       "      <td>26.499040</td>\n",
       "    </tr>\n",
       "    <tr>\n",
       "      <th>51</th>\n",
       "      <td>2020-03-17</td>\n",
       "      <td>29.796602</td>\n",
       "    </tr>\n",
       "  </tbody>\n",
       "</table>\n",
       "</div>"
      ]
     },
     "execution_count": 7,
     "metadata": {},
     "output_type": "execute_result"
    }
   ],
   "execution_count": 7
  }
 ],
 "metadata": {
  "kernelspec": {
   "display_name": "Python 3 (ipykernel)",
   "language": "python",
   "name": "python3"
  },
  "language_info": {
   "codemirror_mode": {
    "name": "ipython",
    "version": 3
   },
   "file_extension": ".py",
   "mimetype": "text/x-python",
   "name": "python",
   "nbconvert_exporter": "python",
   "pygments_lexer": "ipython3",
   "version": "3.11.5"
  }
 },
 "nbformat": 4,
 "nbformat_minor": 5
}
