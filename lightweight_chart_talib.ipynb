{
 "cells": [
  {
   "cell_type": "markdown",
   "id": "e10163e3-3fea-433a-a92d-6c5f016c3d0b",
   "metadata": {},
   "source": [
    "# Line indicators"
   ]
  },
  {
   "cell_type": "code",
   "execution_count": 1,
   "id": "d9026667-4dd0-40e4-8abf-26515172afb6",
   "metadata": {
    "ExecuteTime": {
     "end_time": "2025-10-13T01:50:35.399861Z",
     "start_time": "2025-10-13T01:50:34.805034Z"
    }
   },
   "outputs": [],
   "source": [
    "import pandas as pd\n",
    "import numpy as np\n",
    "import yfinance as yf\n",
    "import talib as ta\n",
    "from lightweight_charts import Chart\n",
    "import asyncio\n",
    "import nest_asyncio\n",
    "from websockets import Close\n",
    "\n",
    "nest_asyncio.apply()"
   ]
  },
  {
   "cell_type": "code",
   "execution_count": 2,
   "id": "2bfd87c81ee8bc4d",
   "metadata": {
    "ExecuteTime": {
     "end_time": "2025-10-13T01:50:35.877805Z",
     "start_time": "2025-10-13T01:50:35.403426Z"
    }
   },
   "outputs": [
    {
     "name": "stderr",
     "output_type": "stream",
     "text": [
      "C:\\Users\\jwang\\AppData\\Local\\Temp\\ipykernel_22140\\4271637344.py:1: FutureWarning: YF.download() has changed argument auto_adjust default to True\n",
      "  df = yf.download('TQQQ', start='2020-01-01', multi_level_index=False)\n",
      "[*********************100%***********************]  1 of 1 completed\n"
     ]
    },
    {
     "data": {
      "application/vnd.microsoft.datawrangler.viewer.v0+json": {
       "columns": [
        {
         "name": "index",
         "rawType": "int64",
         "type": "integer"
        },
        {
         "name": "Date",
         "rawType": "datetime64[ns]",
         "type": "datetime"
        },
        {
         "name": "Close",
         "rawType": "float64",
         "type": "float"
        },
        {
         "name": "High",
         "rawType": "float64",
         "type": "float"
        },
        {
         "name": "Low",
         "rawType": "float64",
         "type": "float"
        },
        {
         "name": "Open",
         "rawType": "float64",
         "type": "float"
        },
        {
         "name": "Volume",
         "rawType": "int64",
         "type": "integer"
        }
       ],
       "ref": "24d94ccd-57ac-4ae0-bf34-c40b3ed7b434",
       "rows": [
        [
         "0",
         "2020-01-02 00:00:00",
         "21.760862350463867",
         "21.760862350463867",
         "21.133238446870383",
         "21.250618196929473",
         "65536000"
        ],
        [
         "1",
         "2020-01-03 00:00:00",
         "21.16916847229004",
         "21.559636791793512",
         "20.89847408510792",
         "20.910452392156586",
         "72590000"
        ],
        [
         "2",
         "2020-01-06 00:00:00",
         "21.57161521911621",
         "21.578801472332255",
         "20.589452519907503",
         "20.666108933600405",
         "64047600"
        ],
        [
         "3",
         "2020-01-07 00:00:00",
         "21.545270919799805",
         "21.746493381221057",
         "21.358420969156178",
         "21.593180507480973",
         "53849600"
        ],
        [
         "4",
         "2020-01-08 00:00:00",
         "22.0411376953125",
         "22.345367346790674",
         "21.44704907227261",
         "21.550056307522677",
         "79582400"
        ]
       ],
       "shape": {
        "columns": 6,
        "rows": 5
       }
      },
      "text/html": [
       "<div>\n",
       "<style scoped>\n",
       "    .dataframe tbody tr th:only-of-type {\n",
       "        vertical-align: middle;\n",
       "    }\n",
       "\n",
       "    .dataframe tbody tr th {\n",
       "        vertical-align: top;\n",
       "    }\n",
       "\n",
       "    .dataframe thead th {\n",
       "        text-align: right;\n",
       "    }\n",
       "</style>\n",
       "<table border=\"1\" class=\"dataframe\">\n",
       "  <thead>\n",
       "    <tr style=\"text-align: right;\">\n",
       "      <th></th>\n",
       "      <th>Date</th>\n",
       "      <th>Close</th>\n",
       "      <th>High</th>\n",
       "      <th>Low</th>\n",
       "      <th>Open</th>\n",
       "      <th>Volume</th>\n",
       "    </tr>\n",
       "  </thead>\n",
       "  <tbody>\n",
       "    <tr>\n",
       "      <th>0</th>\n",
       "      <td>2020-01-02</td>\n",
       "      <td>21.760862</td>\n",
       "      <td>21.760862</td>\n",
       "      <td>21.133238</td>\n",
       "      <td>21.250618</td>\n",
       "      <td>65536000</td>\n",
       "    </tr>\n",
       "    <tr>\n",
       "      <th>1</th>\n",
       "      <td>2020-01-03</td>\n",
       "      <td>21.169168</td>\n",
       "      <td>21.559637</td>\n",
       "      <td>20.898474</td>\n",
       "      <td>20.910452</td>\n",
       "      <td>72590000</td>\n",
       "    </tr>\n",
       "    <tr>\n",
       "      <th>2</th>\n",
       "      <td>2020-01-06</td>\n",
       "      <td>21.571615</td>\n",
       "      <td>21.578801</td>\n",
       "      <td>20.589453</td>\n",
       "      <td>20.666109</td>\n",
       "      <td>64047600</td>\n",
       "    </tr>\n",
       "    <tr>\n",
       "      <th>3</th>\n",
       "      <td>2020-01-07</td>\n",
       "      <td>21.545271</td>\n",
       "      <td>21.746493</td>\n",
       "      <td>21.358421</td>\n",
       "      <td>21.593181</td>\n",
       "      <td>53849600</td>\n",
       "    </tr>\n",
       "    <tr>\n",
       "      <th>4</th>\n",
       "      <td>2020-01-08</td>\n",
       "      <td>22.041138</td>\n",
       "      <td>22.345367</td>\n",
       "      <td>21.447049</td>\n",
       "      <td>21.550056</td>\n",
       "      <td>79582400</td>\n",
       "    </tr>\n",
       "  </tbody>\n",
       "</table>\n",
       "</div>"
      ],
      "text/plain": [
       "        Date      Close       High        Low       Open    Volume\n",
       "0 2020-01-02  21.760862  21.760862  21.133238  21.250618  65536000\n",
       "1 2020-01-03  21.169168  21.559637  20.898474  20.910452  72590000\n",
       "2 2020-01-06  21.571615  21.578801  20.589453  20.666109  64047600\n",
       "3 2020-01-07  21.545271  21.746493  21.358421  21.593181  53849600\n",
       "4 2020-01-08  22.041138  22.345367  21.447049  21.550056  79582400"
      ]
     },
     "execution_count": 2,
     "metadata": {},
     "output_type": "execute_result"
    }
   ],
   "source": [
    "df = yf.download('TQQQ', start='2020-01-01', multi_level_index=False)\n",
    "df.reset_index(inplace=True)\n",
    "\n",
    "df.head()"
   ]
  },
  {
   "cell_type": "code",
   "execution_count": 3,
   "id": "e22582ae-8ef4-4dbe-b6ea-c13fb2025dd1",
   "metadata": {
    "ExecuteTime": {
     "end_time": "2025-10-13T01:51:24.191272Z",
     "start_time": "2025-10-13T01:50:35.906064Z"
    }
   },
   "outputs": [],
   "source": [
    "if __name__ =='__main__':\n",
    "    chart = Chart(title='TQQQ with EMA 12 and EMA 25', maximize=True)\n",
    "    chart.legend(visible=True)\n",
    "\n",
    "    chart.set(df)\n",
    "\n",
    "    ema12_line = chart.create_line('EMA 12', color = '#ffeb3b', width = 1, price_label = True)\n",
    "    ema12 = pd.DataFrame(columns = ['time', 'EMA 12'])\n",
    "    ema12['time'] = df.Date\n",
    "    ema12['EMA 12'] = ta.EMA(df['Close'], 12)\n",
    "    ema12_line.set(ema12.dropna())\n",
    "\n",
    "    ema25_line = chart.create_line('EMA 25', color = '#26c6da', width = 1, price_label = True)\n",
    "    ema25 = pd.DataFrame(columns = ['time', 'EMA 25'])\n",
    "    ema25['time'] = df.Date\n",
    "    ema25['EMA 25'] = ta.EMA(df['Close'], 25)\n",
    "    ema25_line.set(ema25.dropna())\n",
    "\n",
    "    chart.show(block=True)\n"
   ]
  },
  {
   "cell_type": "code",
   "execution_count": 4,
   "id": "3b8c3db43dc98255",
   "metadata": {
    "ExecuteTime": {
     "end_time": "2025-10-13T01:52:04.004737Z",
     "start_time": "2025-10-13T01:51:28.296965Z"
    }
   },
   "outputs": [],
   "source": [
    "# Draw Bollinger Bands\n",
    "chart = Chart(title='TQQQ with Bollinger Bands', maximize=True)\n",
    "chart.legend(visible=True)\n",
    "\n",
    "chart.set(df)\n",
    "\n",
    "# Calculate Bollinger Bands\n",
    "# Default timeperiod=20, nbdevup=2, nbdevdn=2\n",
    "upper_band, middle_band, lower_band = ta.BBANDS(df['Close'], timeperiod=20, nbdevup=2, nbdevdn=2)\n",
    "\n",
    "# Add the bands to your dfFrame\n",
    "df['upper_band'] = upper_band\n",
    "df['middle_band'] = middle_band\n",
    "df['lower_band'] = lower_band\n",
    "\n",
    "# Drop rows with NaN values resulting from the calculation\n",
    "df.dropna(inplace=True)\n",
    "\n",
    "\n",
    "upper_line = chart.create_line('UpperBB', color = 'red', width = 1, price_label = True)\n",
    "upper = pd.DataFrame(columns = ['time', 'UpperBB'])\n",
    "upper['time'] = df.Date\n",
    "upper['UpperBB'] = upper_band\n",
    "upper_line.set(upper.dropna())\n",
    "\n",
    "middle_line = chart.create_line('MiddleBB', color = 'orange', width = 1, price_label = True)\n",
    "middle = pd.DataFrame(columns = ['time', 'MiddleBB'])\n",
    "middle['time'] = df.Date\n",
    "middle['MiddleBB'] = middle_band\n",
    "middle_line.set(middle.dropna())\n",
    "\n",
    "lower_line = chart.create_line('LowerBB', color = 'green', width = 1, price_label = True)\n",
    "lower = pd.DataFrame(columns = ['time', 'LowerBB'])\n",
    "lower['time'] = df.Date\n",
    "lower['LowerBB'] = lower_band\n",
    "lower_line.set(lower.dropna())\n",
    "\n",
    "# Show the chart\n",
    "chart.show(block=True)"
   ]
  },
  {
   "cell_type": "code",
   "execution_count": 5,
   "id": "a9c52044b9e9081c",
   "metadata": {
    "ExecuteTime": {
     "end_time": "2025-10-13T01:53:50.852361Z",
     "start_time": "2025-10-13T01:53:50.848865Z"
    }
   },
   "outputs": [],
   "source": [
    "\n",
    "# Calculate the RSI. TA-Lib expects NumPy arrays.\n",
    "df['rsi'] = ta.RSI(df['Close'], timeperiod=14)\n",
    "\n",
    "# Drop rows with NaN values resulting from the RSI calculation\n",
    "df.dropna(subset=['rsi'], inplace=True)"
   ]
  },
  {
   "cell_type": "code",
   "execution_count": 10,
   "id": "8c06a1e5d84552b3",
   "metadata": {
    "ExecuteTime": {
     "end_time": "2025-10-13T01:55:10.435739Z",
     "start_time": "2025-10-13T01:54:43.104855Z"
    }
   },
   "outputs": [],
   "source": [
    "if __name__ == '__main__':\n",
    "    # Create the main candlestick chart\n",
    "    chart = Chart(title='TQQQ with RSI Indicator', maximize=True, inner_height=0.7)\n",
    "    chart.time_scale(visible=False)\n",
    "    chart.set(df)\n",
    "\n",
    "    # Create a sub-chart for the RSI indicator\n",
    "    rsi_chart = chart.create_subchart(height=0.3, width=1, sync=True)\n",
    "    rsi_line = rsi_chart.create_line('rsi', color = 'red', width = 1, price_label = True)\n",
    "    rsi_line.set(df[['Date', 'rsi']].dropna())\n",
    "\n",
    "\n",
    "    chart.show(block=True)"
   ]
  },
  {
   "cell_type": "code",
   "execution_count": 11,
   "id": "5f06b3a39e168abf",
   "metadata": {
    "ExecuteTime": {
     "end_time": "2025-10-13T01:52:23.448621Z",
     "start_time": "2025-10-13T01:52:23.442516Z"
    }
   },
   "outputs": [
    {
     "data": {
      "application/vnd.microsoft.datawrangler.viewer.v0+json": {
       "columns": [
        {
         "name": "index",
         "rawType": "int64",
         "type": "integer"
        },
        {
         "name": "time",
         "rawType": "datetime64[ns]",
         "type": "datetime"
        },
        {
         "name": "RSI14",
         "rawType": "float64",
         "type": "float"
        }
       ],
       "ref": "ec5e5ee6-6914-422f-adf5-10bb5598b30c",
       "rows": [
        [
         "33",
         "2020-02-20 00:00:00",
         "72.34162305387515"
        ],
        [
         "34",
         "2020-02-21 00:00:00",
         "60.55628490985724"
        ],
        [
         "35",
         "2020-02-24 00:00:00",
         "45.42052965581978"
        ],
        [
         "36",
         "2020-02-25 00:00:00",
         "38.91388766045182"
        ],
        [
         "37",
         "2020-02-26 00:00:00",
         "40.35244588292453"
        ]
       ],
       "shape": {
        "columns": 2,
        "rows": 5
       }
      },
      "text/html": [
       "<div>\n",
       "<style scoped>\n",
       "    .dataframe tbody tr th:only-of-type {\n",
       "        vertical-align: middle;\n",
       "    }\n",
       "\n",
       "    .dataframe tbody tr th {\n",
       "        vertical-align: top;\n",
       "    }\n",
       "\n",
       "    .dataframe thead th {\n",
       "        text-align: right;\n",
       "    }\n",
       "</style>\n",
       "<table border=\"1\" class=\"dataframe\">\n",
       "  <thead>\n",
       "    <tr style=\"text-align: right;\">\n",
       "      <th></th>\n",
       "      <th>time</th>\n",
       "      <th>RSI14</th>\n",
       "    </tr>\n",
       "  </thead>\n",
       "  <tbody>\n",
       "    <tr>\n",
       "      <th>33</th>\n",
       "      <td>2020-02-20</td>\n",
       "      <td>72.341623</td>\n",
       "    </tr>\n",
       "    <tr>\n",
       "      <th>34</th>\n",
       "      <td>2020-02-21</td>\n",
       "      <td>60.556285</td>\n",
       "    </tr>\n",
       "    <tr>\n",
       "      <th>35</th>\n",
       "      <td>2020-02-24</td>\n",
       "      <td>45.420530</td>\n",
       "    </tr>\n",
       "    <tr>\n",
       "      <th>36</th>\n",
       "      <td>2020-02-25</td>\n",
       "      <td>38.913888</td>\n",
       "    </tr>\n",
       "    <tr>\n",
       "      <th>37</th>\n",
       "      <td>2020-02-26</td>\n",
       "      <td>40.352446</td>\n",
       "    </tr>\n",
       "  </tbody>\n",
       "</table>\n",
       "</div>"
      ],
      "text/plain": [
       "         time      RSI14\n",
       "33 2020-02-20  72.341623\n",
       "34 2020-02-21  60.556285\n",
       "35 2020-02-24  45.420530\n",
       "36 2020-02-25  38.913888\n",
       "37 2020-02-26  40.352446"
      ]
     },
     "execution_count": 11,
     "metadata": {},
     "output_type": "execute_result"
    }
   ],
   "source": [
    "rsi.head()"
   ]
  }
 ],
 "metadata": {
  "kernelspec": {
   "display_name": "Python 3",
   "language": "python",
   "name": "python3"
  },
  "language_info": {
   "codemirror_mode": {
    "name": "ipython",
    "version": 3
   },
   "file_extension": ".py",
   "mimetype": "text/x-python",
   "name": "python",
   "nbconvert_exporter": "python",
   "pygments_lexer": "ipython3",
   "version": "3.13.2"
  }
 },
 "nbformat": 4,
 "nbformat_minor": 5
}
