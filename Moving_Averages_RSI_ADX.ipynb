{
 "cells": [
  {
   "cell_type": "markdown",
   "id": "821ddbfe",
   "metadata": {},
   "source": [
    "For trending markets: Moving Averages + RSI + ADX\n",
    "This is an excellent combination for confirming and entering a strong trend.\n",
    "Moving Averages (MA): Identifies the general direction of the trend.\n",
    "Usage: A shorter-term MA crossing above a longer-term MA (a \"golden cross\") can signal a new uptrend.\n",
    "Relative Strength Index (RSI): Confirms momentum and helps avoid entering an already overextended market.\n",
    "Usage: In an uptrend, confirm buying momentum with an RSI above 50 and rising. Avoid entering if the RSI is in the overbought zone (above 70).\n",
    "Average Directional Index (ADX): Measures the strength of the trend, not the direction.\n",
    "Usage: Look for a rising ADX above 25 to confirm that a trend has strength. "
   ]
  },
  {
   "cell_type": "code",
   "execution_count": 1,
   "id": "5e0ce141",
   "metadata": {},
   "outputs": [],
   "source": [
    "import pandas as pd\n",
    "import requests\n",
    "import numpy as np\n",
    "from lightweight_charts import Chart\n",
    "from stock_indicators import indicators, Quote\n",
    "from datetime import datetime, timedelta\n",
    "import asyncio\n",
    "import nest_asyncio\n",
    "\n",
    "nest_asyncio.apply()"
   ]
  },
  {
   "cell_type": "code",
   "execution_count": 2,
   "id": "3ff01506",
   "metadata": {},
   "outputs": [
    {
     "data": {
      "application/vnd.microsoft.datawrangler.viewer.v0+json": {
       "columns": [
        {
         "name": "index",
         "rawType": "int64",
         "type": "integer"
        },
        {
         "name": "Date",
         "rawType": "datetime64[ns]",
         "type": "datetime"
        },
        {
         "name": "Close",
         "rawType": "float64",
         "type": "float"
        },
        {
         "name": "High",
         "rawType": "float64",
         "type": "float"
        },
        {
         "name": "Low",
         "rawType": "float64",
         "type": "float"
        },
        {
         "name": "Open",
         "rawType": "float64",
         "type": "float"
        },
        {
         "name": "Volume",
         "rawType": "int64",
         "type": "integer"
        }
       ],
       "ref": "c28c68bb-c043-4ac6-becb-14a76f1c8fc5",
       "rows": [
        [
         "0",
         "2010-01-04 00:00:00",
         "85.27922058105469",
         "85.32436789377836",
         "83.90969659866086",
         "84.5568348724195",
         "118944600"
        ],
        [
         "1",
         "2010-01-05 00:00:00",
         "85.50494384765625",
         "85.54257042722244",
         "84.9180059488875",
         "85.22652782650235",
         "111579900"
        ],
        [
         "2",
         "2010-01-06 00:00:00",
         "85.56517028808594",
         "85.77586541977085",
         "85.35447515640104",
         "85.42219613115186",
         "116074400"
        ],
        [
         "3",
         "2010-01-07 00:00:00",
         "85.92634582519531",
         "86.03169336625015",
         "85.16633364386222",
         "85.40712884356047",
         "131091100"
        ],
        [
         "4",
         "2010-01-08 00:00:00",
         "86.2123031616211",
         "86.24992975033221",
         "85.52754402696755",
         "85.70061255661136",
         "126402800"
        ]
       ],
       "shape": {
        "columns": 6,
        "rows": 5
       }
      },
      "text/html": [
       "<div>\n",
       "<style scoped>\n",
       "    .dataframe tbody tr th:only-of-type {\n",
       "        vertical-align: middle;\n",
       "    }\n",
       "\n",
       "    .dataframe tbody tr th {\n",
       "        vertical-align: top;\n",
       "    }\n",
       "\n",
       "    .dataframe thead th {\n",
       "        text-align: right;\n",
       "    }\n",
       "</style>\n",
       "<table border=\"1\" class=\"dataframe\">\n",
       "  <thead>\n",
       "    <tr style=\"text-align: right;\">\n",
       "      <th></th>\n",
       "      <th>Date</th>\n",
       "      <th>Close</th>\n",
       "      <th>High</th>\n",
       "      <th>Low</th>\n",
       "      <th>Open</th>\n",
       "      <th>Volume</th>\n",
       "    </tr>\n",
       "  </thead>\n",
       "  <tbody>\n",
       "    <tr>\n",
       "      <th>0</th>\n",
       "      <td>2010-01-04</td>\n",
       "      <td>85.279221</td>\n",
       "      <td>85.324368</td>\n",
       "      <td>83.909697</td>\n",
       "      <td>84.556835</td>\n",
       "      <td>118944600</td>\n",
       "    </tr>\n",
       "    <tr>\n",
       "      <th>1</th>\n",
       "      <td>2010-01-05</td>\n",
       "      <td>85.504944</td>\n",
       "      <td>85.542570</td>\n",
       "      <td>84.918006</td>\n",
       "      <td>85.226528</td>\n",
       "      <td>111579900</td>\n",
       "    </tr>\n",
       "    <tr>\n",
       "      <th>2</th>\n",
       "      <td>2010-01-06</td>\n",
       "      <td>85.565170</td>\n",
       "      <td>85.775865</td>\n",
       "      <td>85.354475</td>\n",
       "      <td>85.422196</td>\n",
       "      <td>116074400</td>\n",
       "    </tr>\n",
       "    <tr>\n",
       "      <th>3</th>\n",
       "      <td>2010-01-07</td>\n",
       "      <td>85.926346</td>\n",
       "      <td>86.031693</td>\n",
       "      <td>85.166334</td>\n",
       "      <td>85.407129</td>\n",
       "      <td>131091100</td>\n",
       "    </tr>\n",
       "    <tr>\n",
       "      <th>4</th>\n",
       "      <td>2010-01-08</td>\n",
       "      <td>86.212303</td>\n",
       "      <td>86.249930</td>\n",
       "      <td>85.527544</td>\n",
       "      <td>85.700613</td>\n",
       "      <td>126402800</td>\n",
       "    </tr>\n",
       "  </tbody>\n",
       "</table>\n",
       "</div>"
      ],
      "text/plain": [
       "        Date      Close       High        Low       Open     Volume\n",
       "0 2010-01-04  85.279221  85.324368  83.909697  84.556835  118944600\n",
       "1 2010-01-05  85.504944  85.542570  84.918006  85.226528  111579900\n",
       "2 2010-01-06  85.565170  85.775865  85.354475  85.422196  116074400\n",
       "3 2010-01-07  85.926346  86.031693  85.166334  85.407129  131091100\n",
       "4 2010-01-08  86.212303  86.249930  85.527544  85.700613  126402800"
      ]
     },
     "execution_count": 2,
     "metadata": {},
     "output_type": "execute_result"
    }
   ],
   "source": [
    "# import yfinance as yf\n",
    "# df = yf.download('SPY', start='2010-01-01', multi_level_index=False)\n",
    "# df.reset_index(inplace=True)\n",
    "# df.to_csv('SPY.csv', index=False)\n",
    "df = pd.read_csv('SPY.csv')\n",
    "rawdf = df.copy()\n",
    "df['Date'] = pd.to_datetime(df['Date'])\n",
    "df.head()"
   ]
  },
  {
   "cell_type": "code",
   "execution_count": 3,
   "id": "5cd4ff8e",
   "metadata": {},
   "outputs": [],
   "source": [
    "quotes = [\n",
    "    Quote(d, o, h, l, c, v)\n",
    "    for d, o, h, l, c, v in zip(\n",
    "        df['Date'],\n",
    "        df['Open'],\n",
    "        df['High'],\n",
    "        df['Low'],\n",
    "        df['Close'],\n",
    "        df['Volume']\n",
    "    )\n",
    "]\n"
   ]
  },
  {
   "cell_type": "code",
   "execution_count": 4,
   "id": "02f050a2",
   "metadata": {},
   "outputs": [],
   "source": [
    "# Calculate EMA\n",
    "df['EMA 12'] = [r.ema for r in indicators.get_ema(quotes, 12)]\n",
    "df['EMA 20'] = [r.ema for r in indicators.get_ema(quotes, 20)]\n",
    "df['EMA 25'] = [r.ema for r in indicators.get_ema(quotes, 25)]\n",
    "\n",
    "# Calculate RSI\n",
    "df['rsi'] = [r.rsi for r in indicators.get_rsi(quotes, 14)]\n",
    "df['rsima6'] = df['rsi'].rolling(6).mean()\n",
    "df['rsima14'] = df['rsi'].rolling(14).mean()\n",
    "df['rsi_bullish'] = 0.0\n",
    "df['rsi_bullish'] = np.where(df['rsi'] > df['rsima14'], 1.0, 0.0)\n",
    "df['crossover_rsi'] = df['rsi_bullish'].diff()\n",
    "\n",
    "# Calculate ADX\n",
    "df['ADX'] = [r.adx for r in indicators.get_adx(quotes, 14)]\n",
    "df['DI_Plus'] = [r.pdi for r in indicators.get_adx(quotes, 14)]\n",
    "df['DI_Minus'] = [r.mdi for r in indicators.get_adx(quotes, 14)]\n",
    "df['adxr'] = [r.adxr for r in indicators.get_adx(quotes, 14)]\n",
    "\n",
    "# Calculate EMA Crossover\n",
    "df['ema_bullish'] = 0.0\n",
    "df['ema_bullish'] = np.where(df['EMA 12'] > df['EMA 25'], 1.0, 0.0)\n",
    "df['crossover_EMA12_EMA25'] = df['ema_bullish'].diff()"
   ]
  },
  {
   "cell_type": "code",
   "execution_count": null,
   "id": "38ee5d0d",
   "metadata": {},
   "outputs": [],
   "source": [
    "if __name__ == '__main__':\n",
    "    \n",
    "    chart = Chart(title=\"EMA_RSI_ADX Strategy\", maximize=True, inner_height=0.6)\n",
    "    chart.legend(visible=True, color_based_on_candle=True)\n",
    "\n",
    "    # Set the main candlestick data for the chart\n",
    "    chart.set(df)\n",
    "\n",
    "    # Create line series for EMAs\n",
    "    ema12_line = chart.create_line('EMA 12', color='#ffeb3b', width=1, price_line=False, price_label=False)\n",
    "    ema12_line.set(df[['Date', 'EMA 12']])\n",
    "\n",
    "    ema25_line = chart.create_line('EMA 25', color='#26c6da', width=1, price_line=False, price_label=False)\n",
    "    ema25_line.set(df[['Date', 'EMA 25']])\n",
    "\n",
    "    # Create RSI subchart\n",
    "    rsi_chart = chart.create_subchart(width=1.0,height=0.2, sync=True)\n",
    "    rsi_line = rsi_chart.create_line('RSI', color=\"#3eff29\")\n",
    "    rsi_line.set(df[['Date', 'rsi']])\n",
    "    rsima14_line = rsi_chart.create_line('rsima14', color=\"#bf2600\")\n",
    "    rsima14_line.set(df[['Date', 'rsima14']])\n",
    "    \n",
    "    # Create ADX subchart\n",
    "    adx_chart = chart.create_subchart(width=1.0,height=0.2, sync=True)\n",
    "    adx_line = adx_chart.create_line('ADX', color='#673ab7')\n",
    "    adx_line.set(df[['Date', 'ADX']])\n",
    "                  \n",
    "    # Initialize a list to hold the markers\n",
    "    markers = []\n",
    "\n",
    "    # Iterate through the DataFrame to find trading signals\n",
    "    for i in range(1, len(df)):\n",
    "        current_time = df.iloc[i]['Date']\n",
    "        \n",
    "        # Check for potential signals based on EMA crossover\n",
    "        if df.iloc[i]['crossover_EMA12_EMA25'] == 1:\n",
    "            # Confirm with RSI and ADX conditions\n",
    "            if (df.iloc[i]['rsi'] > 50 and  # RSI above 50 (uptrend momentum)\n",
    "                df.iloc[i]['rsi'] < 70 and  # Not overbought\n",
    "                df.iloc[i]['ADX'] > 25):    # Strong trend\n",
    "\n",
    "                markers.append({\n",
    "                    'time': current_time,\n",
    "                    'position': 'below',\n",
    "                    'shape': 'arrow_up',\n",
    "                    'color': '#33de3d',\n",
    "                    'text': 'Buy'\n",
    "                })\n",
    "        \n",
    "        # Check for sell signals\n",
    "        elif df.iloc[i]['crossover_EMA12_EMA25'] == -1:\n",
    "            # Add sell marker when EMA crosses down\n",
    "            markers.append({\n",
    "                'time': current_time,\n",
    "                'position': 'above',\n",
    "                'shape': 'arrow_down',\n",
    "                'color': '#f485fb',\n",
    "                'text': 'Sell'\n",
    "            })\n",
    "\n",
    "    # Add all markers at once\n",
    "    if markers:\n",
    "        chart.marker_list(markers)\n",
    "    \n",
    "    chart.show(block=True)"
   ]
  }
 ],
 "metadata": {
  "kernelspec": {
   "display_name": "Python 3",
   "language": "python",
   "name": "python3"
  },
  "language_info": {
   "codemirror_mode": {
    "name": "ipython",
    "version": 3
   },
   "file_extension": ".py",
   "mimetype": "text/x-python",
   "name": "python",
   "nbconvert_exporter": "python",
   "pygments_lexer": "ipython3",
   "version": "3.13.2"
  }
 },
 "nbformat": 4,
 "nbformat_minor": 5
}
