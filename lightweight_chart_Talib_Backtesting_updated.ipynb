{
 "cells": [
  {
   "cell_type": "markdown",
   "id": "e10163e3-3fea-433a-a92d-6c5f016c3d0b",
   "metadata": {},
   "source": [
    "# Line indicators"
   ]
  },
  {
   "cell_type": "code",
   "execution_count": 1,
   "id": "d9026667-4dd0-40e4-8abf-26515172afb6",
   "metadata": {
    "ExecuteTime": {
     "end_time": "2025-10-13T01:50:35.399861Z",
     "start_time": "2025-10-13T01:50:34.805034Z"
    }
   },
   "outputs": [],
   "source": [
    "import pandas as pd\n",
    "import numpy as np\n",
    "import yfinance as yf\n",
    "import talib as ta\n",
    "from lightweight_charts import Chart\n",
    "import asyncio\n",
    "import nest_asyncio\n",
    "from websockets import Close\n",
    "\n",
    "nest_asyncio.apply()"
   ]
  },
  {
   "cell_type": "code",
   "execution_count": 2,
   "id": "2bfd87c81ee8bc4d",
   "metadata": {
    "ExecuteTime": {
     "end_time": "2025-10-13T01:50:35.877805Z",
     "start_time": "2025-10-13T01:50:35.403426Z"
    }
   },
   "outputs": [
    {
     "name": "stderr",
     "output_type": "stream",
     "text": [
      "C:\\Users\\jwang33\\AppData\\Local\\Temp\\ipykernel_21480\\4271637344.py:1: FutureWarning: YF.download() has changed argument auto_adjust default to True\n",
      "  df = yf.download('TQQQ', start='2020-01-01', multi_level_index=False)\n",
      "[*********************100%***********************]  1 of 1 completed\n"
     ]
    },
    {
     "data": {
      "text/html": [
       